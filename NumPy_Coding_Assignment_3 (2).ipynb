{
  "nbformat": 4,
  "nbformat_minor": 0,
  "metadata": {
    "colab": {
      "name": "NumPy Coding Assignment 3.ipynb",
      "provenance": [],
      "collapsed_sections": [
        "0b114e46-c9ea-4feb-8dbd-d38bbd418adb"
      ]
    },
    "kernelspec": {
      "name": "python3",
      "display_name": "Python 3"
    }
  },
  "cells": [
    {
      "cell_type": "code",
      "metadata": {
        "id": "048e0c2e-13a5-4ffe-ac89-09090775ba8a"
      },
      "source": [
        "import numpy as np"
      ],
      "execution_count": 1,
      "outputs": []
    },
    {
      "cell_type": "markdown",
      "metadata": {
        "id": "0b114e46-c9ea-4feb-8dbd-d38bbd418adb"
      },
      "source": [
        "### 1. Distance Weighted Voting \n",
        "\n",
        "Implement the `distance_weighted_voting()` function, which computes the predicted class for a given test instance based on the distances to its k Nearest Neighbors.\n",
        "\n",
        "**Arguments**:\n",
        "* **`label_array`** : Class labels of the `k` nearest training instances from the test instance.\n",
        " * A 1D numpy array of `chars` where $i^{th}$ element represents the class label of $i^{th}$ training instance\n",
        " * Array Shape: `(k, )`\n",
        "\n",
        "* **`distances_array`** : Distances of the `k` nearest training instances from the test instance.\n",
        " * A 1D numpy array of `floats` where the $i^{th}$ element represents the distance of the $i^{th}$ training instance from the test instance.\n",
        " * Array Shape: `(k, )`\n",
        "\n",
        "**Returns**:\n",
        "* A `char` which is the predicted class label of the test instance.\n",
        "\n",
        "**Note:** If there is a tie among the weights of the class labels, then break the tie randomly."
      ]
    },
    {
      "cell_type": "code",
      "metadata": {
        "id": "ca7dfd72-650f-40cb-9527-206ac69ca8ef"
      },
      "source": [
        "def distance_weighted_voting(label_array, distances_array):\n",
        "  # ADD YOUR CODE HERE\n",
        "  dict = {}\n",
        "  for i in range(len(label_array)):\n",
        "    ele = label_array.item(i)\n",
        "    if ele not in dict:\n",
        "      dict[ele] = float(1/distances_array.item(i))\n",
        "    else:\n",
        "      dict[ele] += float(1/distances_array.item(i))\n",
        "\n",
        "  #print(dict)\n",
        "\n",
        "  max = -1\n",
        "  res = -1\n",
        "  for key in dict:\n",
        "    if dict[key]>max:\n",
        "      res = key\n",
        "      max = dict[key]\n",
        "  return res"
      ],
      "execution_count": 10,
      "outputs": []
    },
    {
      "cell_type": "code",
      "metadata": {
        "id": "db603564-8b8d-4aa4-8122-5014d530ed88",
        "colab": {
          "base_uri": "https://localhost:8080/"
        },
        "outputId": "ec6cceba-50fb-4255-bb3f-cc49eacc940e"
      },
      "source": [
        "# SAMPLE TEST CASE\n",
        "\n",
        "label_array = np.array(['A','B','C','A','B'])\n",
        "distances_array = np.array([1.2, 3.4, 2.3, 2.2, 1.5])\n",
        "print(distance_weighted_voting(label_array, distances_array))"
      ],
      "execution_count": 11,
      "outputs": [
        {
          "output_type": "stream",
          "text": [
            "{'A': 1.2878787878787878, 'B': 0.9607843137254901, 'C': 0.4347826086956522}\n",
            "A\n"
          ],
          "name": "stdout"
        }
      ]
    },
    {
      "cell_type": "markdown",
      "metadata": {
        "id": "17170608-f6c9-4253-9cb5-b1467338a4c1"
      },
      "source": [
        "**Expected Output**:\n",
        "```\n",
        "A\n",
        "```"
      ]
    },
    {
      "cell_type": "markdown",
      "metadata": {
        "id": "d0a6e262-7cac-49a5-a2be-30649a9483d0"
      },
      "source": [
        "### 2. Micro-averaged Precision\n",
        "\n",
        "Implement the `micro_averaged_precision()` function, which computes the micro-averaged precision for a **multi-label**, multi-class classification problem.\n",
        "\n",
        "\n",
        "**Arguments**:\n",
        "* **`actual_2D`** : Actual labels of instances\n",
        "  * A 2d numpy array where each row represents an instance and each column represents a class.\n",
        "  * For each instance, the value in $i^{th}$ column is `True` if $i^{th}$ class is among the actual labels for that instance. Otherwise, the value in $i^{th}$ column is `False`.\n",
        " \n",
        "\n",
        "* **`predicted_2D`**: Predicted labels of instances\n",
        " * A 2d numpy array where each row represents an instance and each column represents a class. \n",
        " * For each instance, the value in $i^{th}$ column is `True` if $i^{th}$ class is among the predicted labels for that instance. Otherwise, the value in $i^{th}$ column is `False`.\n",
        "\n",
        "**Returns**:  \n",
        "* A `float` value which is the Micro-averaged Precision."
      ]
    },
    {
      "cell_type": "code",
      "metadata": {
        "id": "8daa4c39-54c6-4f90-927e-571884dedb96"
      },
      "source": [
        "def micro_averaged_precision(actual_2D, predicted_2D):\n",
        "  # ADD YOUR CODE HERE\n",
        "  r = len(actual_2D)\n",
        "  c = len(actual_2D[0])\n",
        "  TP = []\n",
        "  FP = []\n",
        "  for i in range(r):\n",
        "    tp = 0\n",
        "    fp = 0\n",
        "    for j in range(c):\n",
        "      if actual_2D[i][j]==True and predicted_2D[i][j]==True:\n",
        "        tp += 1\n",
        "      elif actual_2D[i][j]==False and predicted_2D[i][j]==True:\n",
        "        fp += 1\n",
        "    TP.append(tp)\n",
        "    FP.append(fp)\n",
        "  if sum(TP)==0:\n",
        "    return 0/1\n",
        "\n",
        "  return sum(TP)/(sum(TP)+sum(FP))\n"
      ],
      "execution_count": 17,
      "outputs": []
    },
    {
      "cell_type": "code",
      "metadata": {
        "id": "4f26e688-01f1-402c-bd8b-4c5179496eef",
        "colab": {
          "base_uri": "https://localhost:8080/"
        },
        "outputId": "71e59ac6-306b-4e75-bf29-465488b5e0a7"
      },
      "source": [
        "# SAMPLE TEST CASE\n",
        "\n",
        "actual_2D = np.array([[True, False, False, True],\n",
        "                        [False, True, False, True]])\n",
        "predicted_2D = np.array([[True, False, False, True],\n",
        "                        [False, True, False, True]])\n",
        "result = micro_averaged_precision(actual_2D, predicted_2D)\n",
        "print(np.round(result, 3))"
      ],
      "execution_count": 19,
      "outputs": [
        {
          "output_type": "stream",
          "text": [
            "0.667\n"
          ],
          "name": "stdout"
        }
      ]
    },
    {
      "cell_type": "markdown",
      "metadata": {
        "id": "809a1a36-3bbc-42e3-a897-e01f955a92db"
      },
      "source": [
        "**Expected Output**:\n",
        "```\n",
        "1.0\n",
        "```"
      ]
    },
    {
      "cell_type": "markdown",
      "metadata": {
        "id": "8156dc33-4a3c-4640-a102-f330d32c6942"
      },
      "source": [
        "### 3. Micro-averaged Recall\n",
        "\n",
        "Implement the `micro_averaged_recall()` function, which computes the micro-averaged recall for a **multi-label**, multi-class classification problem.\n",
        "\n",
        "\n",
        "**Arguments**:\n",
        "* **`actual_2D`** : Actual labels of instances\n",
        "  * A 2d numpy array where each row represents an instance and each column represents a class.\n",
        "  * For each instance, the value in $i^{th}$ column is `True` if $i^{th}$ class is among the actual labels for that instance. Otherwise, the value in $i^{th}$ column is `False`.\n",
        " \n",
        "\n",
        "* **`predicted_2D`**: Predicted labels of instances\n",
        " * A 2d numpy array where each row represents an instance and each column represents a class. \n",
        " * For each instance, the value in $i^{th}$ column is `True` if $i^{th}$ class is among the predicted labels for that instance. Otherwise, the value in $i^{th}$ column is `False`.\n",
        "\n",
        "**Returns**:  \n",
        "* A `float` value which is the Micro-averaged Recall."
      ]
    },
    {
      "cell_type": "code",
      "metadata": {
        "id": "bb5e559e-6fbc-41e9-a29a-dec1ee9384ba"
      },
      "source": [
        "def micro_averaged_recall(actual_2D, predicted_2D):\n",
        "  # ADD YOUR CODE HERE\n",
        "  r = len(actual_2D)\n",
        "  c = len(actual_2D[0])\n",
        "  TP = []\n",
        "  FN = []\n",
        "  for i in range(r):\n",
        "    tp = 0\n",
        "    fn = 0\n",
        "    for j in range(c):\n",
        "      if actual_2D[i][j]==True and predicted_2D[i][j]==True:\n",
        "        tp += 1\n",
        "      elif actual_2D[i][j]==True and predicted_2D[i][j]==False:\n",
        "        fn += 1\n",
        "    TP.append(tp)\n",
        "    FN.append(fn)\n",
        "\n",
        "  return sum(TP)/(sum(TP)+sum(FN))\n",
        "\n"
      ],
      "execution_count": 20,
      "outputs": []
    },
    {
      "cell_type": "code",
      "metadata": {
        "id": "1da01c6b-af35-4d08-a292-c0daa92371f2",
        "colab": {
          "base_uri": "https://localhost:8080/"
        },
        "outputId": "46486b27-b5be-47e8-8fe1-548d047067b8"
      },
      "source": [
        "# SAMPLE TEST CASE\n",
        "\n",
        "actual_2D = np.array([[True, False, False, True],\n",
        "                        [False, True, False, True]])\n",
        "predicted_2D = np.array([[True, False, False, True],\n",
        "                        [False, True, False, True]])\n",
        "result = micro_averaged_recall(actual_2D, predicted_2D)\n",
        "print(np.round(result, 3))"
      ],
      "execution_count": 22,
      "outputs": [
        {
          "output_type": "stream",
          "text": [
            "0.667\n"
          ],
          "name": "stdout"
        }
      ]
    },
    {
      "cell_type": "markdown",
      "metadata": {
        "id": "1d902b2f-f6db-4d85-8fcb-59c20d0f1aab"
      },
      "source": [
        "**Expected Output**:\n",
        "```\n",
        "1.0\n",
        "```"
      ]
    },
    {
      "cell_type": "markdown",
      "metadata": {
        "id": "45b5a465-f762-424d-b6e6-57b9e70c69ed"
      },
      "source": [
        "4. Students grades\n",
        "\n",
        "Implement the `student_grades()` function, which evaluates the grades of each student for the given marks in a subject. The function should use the relative grading method which is described below.\n",
        "\n",
        "Based on the given marks, assign $Grade_i$ for least possible $i$ such that  $$marks \\ge Avg + Std*offset_i$$\n",
        "\n",
        "$\\hspace{40ex}$ where <br>\n",
        "$\\hspace{43ex}$ $Avg$ is the class average marks,<br>\n",
        "$\\hspace{43ex}$ $Std$ is the standard deviation of class marks\n",
        "\n",
        "\n",
        "If there is no such $i$ which satisfies the condition mentioned above, then assign the last element in the given array of grades. That is, $Grade_{last}$.\n",
        "\n",
        "**Arguments**:\n",
        "* **`marks_1D`** : Marks of each student in a subject.\n",
        " * A 1D numpy array of `ints`\n",
        "* **`offset_1D`**: Offsets for relative grading.\n",
        " * A 1D numpy array of `floats`\n",
        " * It's a sorted array in descending order\n",
        "* **`grades_1D`**: Grades to be assigned for the corresponding range of scores given by the offsets.\n",
        " * A 1D numpy array of `chars`\n",
        "\n",
        "**Returns**:\n",
        "* A 1D numpy array of `chars` which represents the grades for each student.\n",
        "\n"
      ]
    },
    {
      "cell_type": "code",
      "metadata": {
        "id": "e0e1ba3a-871e-4ee1-ac1a-52fd476f8dd8"
      },
      "source": [
        "def student_grades(marks_1D, offset_1D, grades_1D):\n",
        "  #ADD YOUR CODE HERE\n",
        "  avg = np.average(marks_1D)\n",
        "  std = np.std(marks_1D)\n",
        "  n = len(marks_1D)\n",
        "  m = len(offset_1D)\n",
        "  grades = []\n",
        "  #print(avg, std)\n",
        "  for i in range(n):\n",
        "    j = m-1\n",
        "    while j>-1 and marks_1D[i] >= (avg + offset_1D[j]*std):\n",
        "      j -= 1\n",
        "    grades.append(grades_1D[j+1])\n",
        "    \n",
        "  return np.array(grades)\n",
        "\n",
        "  "
      ],
      "execution_count": 33,
      "outputs": []
    },
    {
      "cell_type": "code",
      "metadata": {
        "id": "f276bf4f-cda3-4cb0-900d-3b0a6764799f",
        "colab": {
          "base_uri": "https://localhost:8080/"
        },
        "outputId": "5e2c56ba-b1e5-49b2-c8d0-0d453f6ee8a8"
      },
      "source": [
        "# SAMPLE TEST CASE\n",
        "\n",
        "marks_1D = np.array([90, 85, 72, 93, 86])\n",
        "offset_1D = np.array([1.5, 1.0, 0, -1.0, -1.5])\n",
        "grades_1D = np.array([\"A\",\"B\",\"C\",\"D\",\"E\",\"Z\"])\n",
        "print(student_grades(marks_1D, offset_1D, grades_1D))"
      ],
      "execution_count": 34,
      "outputs": [
        {
          "output_type": "stream",
          "text": [
            "['C' 'D' 'Z' 'B' 'C']\n"
          ],
          "name": "stdout"
        }
      ]
    },
    {
      "cell_type": "markdown",
      "metadata": {
        "id": "7fc2bb2d-22e8-4443-8465-82979c83a6eb"
      },
      "source": [
        "**Expected Output**:\n",
        "```\n",
        "['B' 'C' 'C' 'E']\n",
        "```"
      ]
    }
  ]
}