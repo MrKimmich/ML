{
  "nbformat": 4,
  "nbformat_minor": 0,
  "metadata": {
    "colab": {
      "name": "Pandas: Modifying DataFrames and Series",
      "provenance": [],
      "collapsed_sections": [],
      "toc_visible": true
    },
    "kernelspec": {
      "name": "python3",
      "display_name": "Python 3"
    }
  },
  "cells": [
    {
      "cell_type": "code",
      "metadata": {
        "id": "XtyPJLjoEyUS"
      },
      "source": [
        "import pandas as pd\n",
        "import numpy as np"
      ],
      "execution_count": 1,
      "outputs": []
    },
    {
      "cell_type": "markdown",
      "metadata": {
        "id": "9AF3vu8QRfcB"
      },
      "source": [
        "# Downloading and Loading Datasets\n",
        "Downloading all the required csv files and loading the data into the dataframes"
      ]
    },
    {
      "cell_type": "code",
      "metadata": {
        "id": "g3OjByf8RfcB",
        "outputId": "807b03cb-8194-4ff0-df67-9acc8ba79418",
        "colab": {
          "base_uri": "https://localhost:8080/"
        }
      },
      "source": [
        "# eCommerce Dataset\n",
        "!wget https://nkb-backend-otg-media-static.s3.ap-south-1.amazonaws.com/otg_prod/media/Tech_4.0/AI_ML/Datasets/shopping_data_v2.csv\n",
        "\n",
        "shopping_df = pd.read_csv('shopping_data_v2.csv')"
      ],
      "execution_count": 2,
      "outputs": [
        {
          "output_type": "stream",
          "text": [
            "--2020-12-23 04:34:49--  https://nkb-backend-otg-media-static.s3.ap-south-1.amazonaws.com/otg_prod/media/Tech_4.0/AI_ML/Datasets/shopping_data_v2.csv\n",
            "Resolving nkb-backend-otg-media-static.s3.ap-south-1.amazonaws.com (nkb-backend-otg-media-static.s3.ap-south-1.amazonaws.com)... 52.219.62.111\n",
            "Connecting to nkb-backend-otg-media-static.s3.ap-south-1.amazonaws.com (nkb-backend-otg-media-static.s3.ap-south-1.amazonaws.com)|52.219.62.111|:443... connected.\n",
            "HTTP request sent, awaiting response... 200 OK\n",
            "Length: 16278053 (16M) [text/csv]\n",
            "Saving to: ‘shopping_data_v2.csv’\n",
            "\n",
            "shopping_data_v2.cs 100%[===================>]  15.52M  5.06MB/s    in 3.1s    \n",
            "\n",
            "2020-12-23 04:34:53 (5.06 MB/s) - ‘shopping_data_v2.csv’ saved [16278053/16278053]\n",
            "\n"
          ],
          "name": "stdout"
        }
      ]
    },
    {
      "cell_type": "code",
      "metadata": {
        "id": "LIYeqaK_M8wZ"
      },
      "source": [
        "# Covid Dataset\n",
        "!wget https://nkb-backend-otg-media-static.s3.ap-south-1.amazonaws.com/otg_prod/media/Tech_4.0/AI_ML/Datasets/italy-covid-daywise.csv\n",
        "\n",
        "covid_df = pd.read_csv('italy-covid-daywise.csv')"
      ],
      "execution_count": null,
      "outputs": []
    },
    {
      "cell_type": "code",
      "metadata": {
        "id": "pNKwxH46M8lC"
      },
      "source": [
        "# Stackoverflow Survey Dataset\n",
        "!wget https://nkb-backend-otg-media-static.s3.ap-south-1.amazonaws.com/otg_prod/media/Tech_4.0/AI_ML/Datasets/survey_results_public.csv\n",
        "\n",
        "survey_df = pd.read_csv('survey_results_public.csv')"
      ],
      "execution_count": null,
      "outputs": []
    },
    {
      "cell_type": "code",
      "metadata": {
        "id": "2PuJZuRAM8Za"
      },
      "source": [
        "# Film Dataset\n",
        "!wget https://nkb-backend-otg-media-static.s3.ap-south-1.amazonaws.com/otg_prod/media/Tech_4.0/AI_ML/Datasets/film.csv\n",
        "\n",
        "films_df = pd.read_csv('film.csv')"
      ],
      "execution_count": null,
      "outputs": []
    },
    {
      "cell_type": "markdown",
      "metadata": {
        "id": "6nqm2naoxDnv"
      },
      "source": [
        "# Modifying Column Names"
      ]
    },
    {
      "cell_type": "code",
      "metadata": {
        "id": "PCVSDNqAkPZW"
      },
      "source": [
        "people = {\n",
        "    \"First Name\": [\"Kristen\", 'Maxine', 'John'], \n",
        "    \"Last Name\": [\"Carol\", 'Willians', 'Smith'], \n",
        "    \"Email ID\": [\"KristenC@gmail.com\", 'Maxine.Williams@email.com', 'JohnSmith@email.com']\n",
        "}"
      ],
      "execution_count": 3,
      "outputs": []
    },
    {
      "cell_type": "code",
      "metadata": {
        "id": "gPZfwZWqkPgY",
        "outputId": "996605ee-7c3d-43b8-b478-124891f14e70",
        "colab": {
          "base_uri": "https://localhost:8080/",
          "height": 142
        }
      },
      "source": [
        "people_df = pd.DataFrame(people)\n",
        "people_df"
      ],
      "execution_count": 4,
      "outputs": [
        {
          "output_type": "execute_result",
          "data": {
            "text/html": [
              "<div>\n",
              "<style scoped>\n",
              "    .dataframe tbody tr th:only-of-type {\n",
              "        vertical-align: middle;\n",
              "    }\n",
              "\n",
              "    .dataframe tbody tr th {\n",
              "        vertical-align: top;\n",
              "    }\n",
              "\n",
              "    .dataframe thead th {\n",
              "        text-align: right;\n",
              "    }\n",
              "</style>\n",
              "<table border=\"1\" class=\"dataframe\">\n",
              "  <thead>\n",
              "    <tr style=\"text-align: right;\">\n",
              "      <th></th>\n",
              "      <th>First Name</th>\n",
              "      <th>Last Name</th>\n",
              "      <th>Email ID</th>\n",
              "    </tr>\n",
              "  </thead>\n",
              "  <tbody>\n",
              "    <tr>\n",
              "      <th>0</th>\n",
              "      <td>Kristen</td>\n",
              "      <td>Carol</td>\n",
              "      <td>KristenC@gmail.com</td>\n",
              "    </tr>\n",
              "    <tr>\n",
              "      <th>1</th>\n",
              "      <td>Maxine</td>\n",
              "      <td>Willians</td>\n",
              "      <td>Maxine.Williams@email.com</td>\n",
              "    </tr>\n",
              "    <tr>\n",
              "      <th>2</th>\n",
              "      <td>John</td>\n",
              "      <td>Smith</td>\n",
              "      <td>JohnSmith@email.com</td>\n",
              "    </tr>\n",
              "  </tbody>\n",
              "</table>\n",
              "</div>"
            ],
            "text/plain": [
              "  First Name Last Name                   Email ID\n",
              "0    Kristen     Carol         KristenC@gmail.com\n",
              "1     Maxine  Willians  Maxine.Williams@email.com\n",
              "2       John     Smith        JohnSmith@email.com"
            ]
          },
          "metadata": {
            "tags": []
          },
          "execution_count": 4
        }
      ]
    },
    {
      "cell_type": "code",
      "metadata": {
        "id": "BwGtWB2WFdml",
        "outputId": "80edf9ca-de31-4b86-c03b-7313e3610b46",
        "colab": {
          "base_uri": "https://localhost:8080/"
        }
      },
      "source": [
        "people_df.columns"
      ],
      "execution_count": 5,
      "outputs": [
        {
          "output_type": "execute_result",
          "data": {
            "text/plain": [
              "Index(['First Name', 'Last Name', 'Email ID'], dtype='object')"
            ]
          },
          "metadata": {
            "tags": []
          },
          "execution_count": 5
        }
      ]
    },
    {
      "cell_type": "code",
      "metadata": {
        "id": "wElIg9xoFtiv",
        "outputId": "6ab02a1b-7737-4a71-b50b-6c23caf6f134",
        "colab": {
          "base_uri": "https://localhost:8080/",
          "height": 142
        }
      },
      "source": [
        "people_df.columns = [\"F Name\", \"L Name\", \"Email\"]\n",
        "people_df"
      ],
      "execution_count": 6,
      "outputs": [
        {
          "output_type": "execute_result",
          "data": {
            "text/html": [
              "<div>\n",
              "<style scoped>\n",
              "    .dataframe tbody tr th:only-of-type {\n",
              "        vertical-align: middle;\n",
              "    }\n",
              "\n",
              "    .dataframe tbody tr th {\n",
              "        vertical-align: top;\n",
              "    }\n",
              "\n",
              "    .dataframe thead th {\n",
              "        text-align: right;\n",
              "    }\n",
              "</style>\n",
              "<table border=\"1\" class=\"dataframe\">\n",
              "  <thead>\n",
              "    <tr style=\"text-align: right;\">\n",
              "      <th></th>\n",
              "      <th>F Name</th>\n",
              "      <th>L Name</th>\n",
              "      <th>Email</th>\n",
              "    </tr>\n",
              "  </thead>\n",
              "  <tbody>\n",
              "    <tr>\n",
              "      <th>0</th>\n",
              "      <td>Kristen</td>\n",
              "      <td>Carol</td>\n",
              "      <td>KristenC@gmail.com</td>\n",
              "    </tr>\n",
              "    <tr>\n",
              "      <th>1</th>\n",
              "      <td>Maxine</td>\n",
              "      <td>Willians</td>\n",
              "      <td>Maxine.Williams@email.com</td>\n",
              "    </tr>\n",
              "    <tr>\n",
              "      <th>2</th>\n",
              "      <td>John</td>\n",
              "      <td>Smith</td>\n",
              "      <td>JohnSmith@email.com</td>\n",
              "    </tr>\n",
              "  </tbody>\n",
              "</table>\n",
              "</div>"
            ],
            "text/plain": [
              "    F Name    L Name                      Email\n",
              "0  Kristen     Carol         KristenC@gmail.com\n",
              "1   Maxine  Willians  Maxine.Williams@email.com\n",
              "2     John     Smith        JohnSmith@email.com"
            ]
          },
          "metadata": {
            "tags": []
          },
          "execution_count": 6
        }
      ]
    },
    {
      "cell_type": "code",
      "metadata": {
        "id": "oGF38qNsGuWC",
        "outputId": "4835f49a-b6fc-4170-9824-1cea8d4d1298",
        "colab": {
          "base_uri": "https://localhost:8080/",
          "height": 142
        }
      },
      "source": [
        "people_df.columns = people_df.columns.str.replace(' ', '_')\n",
        "people_df"
      ],
      "execution_count": 7,
      "outputs": [
        {
          "output_type": "execute_result",
          "data": {
            "text/html": [
              "<div>\n",
              "<style scoped>\n",
              "    .dataframe tbody tr th:only-of-type {\n",
              "        vertical-align: middle;\n",
              "    }\n",
              "\n",
              "    .dataframe tbody tr th {\n",
              "        vertical-align: top;\n",
              "    }\n",
              "\n",
              "    .dataframe thead th {\n",
              "        text-align: right;\n",
              "    }\n",
              "</style>\n",
              "<table border=\"1\" class=\"dataframe\">\n",
              "  <thead>\n",
              "    <tr style=\"text-align: right;\">\n",
              "      <th></th>\n",
              "      <th>F_Name</th>\n",
              "      <th>L_Name</th>\n",
              "      <th>Email</th>\n",
              "    </tr>\n",
              "  </thead>\n",
              "  <tbody>\n",
              "    <tr>\n",
              "      <th>0</th>\n",
              "      <td>Kristen</td>\n",
              "      <td>Carol</td>\n",
              "      <td>KristenC@gmail.com</td>\n",
              "    </tr>\n",
              "    <tr>\n",
              "      <th>1</th>\n",
              "      <td>Maxine</td>\n",
              "      <td>Willians</td>\n",
              "      <td>Maxine.Williams@email.com</td>\n",
              "    </tr>\n",
              "    <tr>\n",
              "      <th>2</th>\n",
              "      <td>John</td>\n",
              "      <td>Smith</td>\n",
              "      <td>JohnSmith@email.com</td>\n",
              "    </tr>\n",
              "  </tbody>\n",
              "</table>\n",
              "</div>"
            ],
            "text/plain": [
              "    F_Name    L_Name                      Email\n",
              "0  Kristen     Carol         KristenC@gmail.com\n",
              "1   Maxine  Willians  Maxine.Williams@email.com\n",
              "2     John     Smith        JohnSmith@email.com"
            ]
          },
          "metadata": {
            "tags": []
          },
          "execution_count": 7
        }
      ]
    },
    {
      "cell_type": "code",
      "metadata": {
        "id": "XwDuQqo-6JX0",
        "outputId": "643c208b-2e99-4772-9a61-ffd458284fa9",
        "colab": {
          "base_uri": "https://localhost:8080/",
          "height": 142
        }
      },
      "source": [
        "people_df.columns = [x.lower() for x in people_df]\n",
        "people_df"
      ],
      "execution_count": 8,
      "outputs": [
        {
          "output_type": "execute_result",
          "data": {
            "text/html": [
              "<div>\n",
              "<style scoped>\n",
              "    .dataframe tbody tr th:only-of-type {\n",
              "        vertical-align: middle;\n",
              "    }\n",
              "\n",
              "    .dataframe tbody tr th {\n",
              "        vertical-align: top;\n",
              "    }\n",
              "\n",
              "    .dataframe thead th {\n",
              "        text-align: right;\n",
              "    }\n",
              "</style>\n",
              "<table border=\"1\" class=\"dataframe\">\n",
              "  <thead>\n",
              "    <tr style=\"text-align: right;\">\n",
              "      <th></th>\n",
              "      <th>f_name</th>\n",
              "      <th>l_name</th>\n",
              "      <th>email</th>\n",
              "    </tr>\n",
              "  </thead>\n",
              "  <tbody>\n",
              "    <tr>\n",
              "      <th>0</th>\n",
              "      <td>Kristen</td>\n",
              "      <td>Carol</td>\n",
              "      <td>KristenC@gmail.com</td>\n",
              "    </tr>\n",
              "    <tr>\n",
              "      <th>1</th>\n",
              "      <td>Maxine</td>\n",
              "      <td>Willians</td>\n",
              "      <td>Maxine.Williams@email.com</td>\n",
              "    </tr>\n",
              "    <tr>\n",
              "      <th>2</th>\n",
              "      <td>John</td>\n",
              "      <td>Smith</td>\n",
              "      <td>JohnSmith@email.com</td>\n",
              "    </tr>\n",
              "  </tbody>\n",
              "</table>\n",
              "</div>"
            ],
            "text/plain": [
              "    f_name    l_name                      email\n",
              "0  Kristen     Carol         KristenC@gmail.com\n",
              "1   Maxine  Willians  Maxine.Williams@email.com\n",
              "2     John     Smith        JohnSmith@email.com"
            ]
          },
          "metadata": {
            "tags": []
          },
          "execution_count": 8
        }
      ]
    },
    {
      "cell_type": "markdown",
      "metadata": {
        "id": "4mFmqcQfECka"
      },
      "source": [
        "### pd.DataFrame.rename\n",
        "* `pd.DataFrame.rename(mapper=None, index=None, columns=None, axis=None, inplace=False)`\n",
        "  *   `mapper` is the dict-like or functions transformations to apply to that axis’ values.\n",
        "  *   `axis` is the axis to target with mapper.\n",
        "  *   `index` is an alternative to specifying axis (mapper, axis=0 is equivalent to index=mapper)\n",
        "  *  `columns` is an alternative to specifying axis (mapper, axis=1 is equivalent to columns=mapper)\n",
        "\n"
      ]
    },
    {
      "cell_type": "code",
      "metadata": {
        "id": "H5RTF7eeGMjo",
        "outputId": "040b22f3-678d-4a8b-fe46-cfab140f3b4d",
        "colab": {
          "base_uri": "https://localhost:8080/",
          "height": 419
        }
      },
      "source": [
        "shopping_df"
      ],
      "execution_count": 9,
      "outputs": [
        {
          "output_type": "execute_result",
          "data": {
            "text/html": [
              "<div>\n",
              "<style scoped>\n",
              "    .dataframe tbody tr th:only-of-type {\n",
              "        vertical-align: middle;\n",
              "    }\n",
              "\n",
              "    .dataframe tbody tr th {\n",
              "        vertical-align: top;\n",
              "    }\n",
              "\n",
              "    .dataframe thead th {\n",
              "        text-align: right;\n",
              "    }\n",
              "</style>\n",
              "<table border=\"1\" class=\"dataframe\">\n",
              "  <thead>\n",
              "    <tr style=\"text-align: right;\">\n",
              "      <th></th>\n",
              "      <th>Order ID</th>\n",
              "      <th>Product</th>\n",
              "      <th>Quantity Ordered</th>\n",
              "      <th>Price Each</th>\n",
              "      <th>Order Date</th>\n",
              "      <th>Purchase Address</th>\n",
              "    </tr>\n",
              "  </thead>\n",
              "  <tbody>\n",
              "    <tr>\n",
              "      <th>0</th>\n",
              "      <td>176558</td>\n",
              "      <td>USB-C Charging Cable</td>\n",
              "      <td>2</td>\n",
              "      <td>11.95</td>\n",
              "      <td>04/19/19 08:46</td>\n",
              "      <td>917 1st St, Dallas, TX 75001</td>\n",
              "    </tr>\n",
              "    <tr>\n",
              "      <th>1</th>\n",
              "      <td>176559</td>\n",
              "      <td>Bose SoundSport Headphones</td>\n",
              "      <td>1</td>\n",
              "      <td>99.99</td>\n",
              "      <td>04/07/19 22:30</td>\n",
              "      <td>682 Chestnut St, Boston, MA 02215</td>\n",
              "    </tr>\n",
              "    <tr>\n",
              "      <th>2</th>\n",
              "      <td>176560</td>\n",
              "      <td>Google Phone</td>\n",
              "      <td>1</td>\n",
              "      <td>600.00</td>\n",
              "      <td>04/12/19 14:38</td>\n",
              "      <td>669 Spruce St, Los Angeles, CA 90001</td>\n",
              "    </tr>\n",
              "    <tr>\n",
              "      <th>3</th>\n",
              "      <td>176560</td>\n",
              "      <td>Wired Headphones</td>\n",
              "      <td>1</td>\n",
              "      <td>11.99</td>\n",
              "      <td>04/12/19 14:38</td>\n",
              "      <td>669 Spruce St, Los Angeles, CA 90001</td>\n",
              "    </tr>\n",
              "    <tr>\n",
              "      <th>4</th>\n",
              "      <td>176561</td>\n",
              "      <td>Wired Headphones</td>\n",
              "      <td>1</td>\n",
              "      <td>11.99</td>\n",
              "      <td>04/30/19 09:27</td>\n",
              "      <td>333 8th St, Los Angeles, CA 90001</td>\n",
              "    </tr>\n",
              "    <tr>\n",
              "      <th>...</th>\n",
              "      <td>...</td>\n",
              "      <td>...</td>\n",
              "      <td>...</td>\n",
              "      <td>...</td>\n",
              "      <td>...</td>\n",
              "      <td>...</td>\n",
              "    </tr>\n",
              "    <tr>\n",
              "      <th>185945</th>\n",
              "      <td>176554</td>\n",
              "      <td>Lightning Charging Cable</td>\n",
              "      <td>1</td>\n",
              "      <td>14.95</td>\n",
              "      <td>03/24/19 11:14</td>\n",
              "      <td>672 12th St, San Francisco, CA 94016</td>\n",
              "    </tr>\n",
              "    <tr>\n",
              "      <th>185946</th>\n",
              "      <td>176555</td>\n",
              "      <td>27in FHD Monitor</td>\n",
              "      <td>1</td>\n",
              "      <td>149.99</td>\n",
              "      <td>03/22/19 20:27</td>\n",
              "      <td>42 4th St, San Francisco, CA 94016</td>\n",
              "    </tr>\n",
              "    <tr>\n",
              "      <th>185947</th>\n",
              "      <td>176556</td>\n",
              "      <td>AAA Batteries (4-pack)</td>\n",
              "      <td>3</td>\n",
              "      <td>2.99</td>\n",
              "      <td>03/14/19 10:29</td>\n",
              "      <td>871 7th St, Los Angeles, CA 90001</td>\n",
              "    </tr>\n",
              "    <tr>\n",
              "      <th>185948</th>\n",
              "      <td>176557</td>\n",
              "      <td>iPhone</td>\n",
              "      <td>1</td>\n",
              "      <td>700.00</td>\n",
              "      <td>03/30/19 12:32</td>\n",
              "      <td>83 Washington St, San Francisco, CA 94016</td>\n",
              "    </tr>\n",
              "    <tr>\n",
              "      <th>185949</th>\n",
              "      <td>176557</td>\n",
              "      <td>Lightning Charging Cable</td>\n",
              "      <td>1</td>\n",
              "      <td>14.95</td>\n",
              "      <td>03/30/19 12:32</td>\n",
              "      <td>83 Washington St, San Francisco, CA 94016</td>\n",
              "    </tr>\n",
              "  </tbody>\n",
              "</table>\n",
              "<p>185950 rows × 6 columns</p>\n",
              "</div>"
            ],
            "text/plain": [
              "        Order ID  ...                           Purchase Address\n",
              "0         176558  ...               917 1st St, Dallas, TX 75001\n",
              "1         176559  ...          682 Chestnut St, Boston, MA 02215\n",
              "2         176560  ...       669 Spruce St, Los Angeles, CA 90001\n",
              "3         176560  ...       669 Spruce St, Los Angeles, CA 90001\n",
              "4         176561  ...          333 8th St, Los Angeles, CA 90001\n",
              "...          ...  ...                                        ...\n",
              "185945    176554  ...       672 12th St, San Francisco, CA 94016\n",
              "185946    176555  ...         42 4th St, San Francisco, CA 94016\n",
              "185947    176556  ...          871 7th St, Los Angeles, CA 90001\n",
              "185948    176557  ...  83 Washington St, San Francisco, CA 94016\n",
              "185949    176557  ...  83 Washington St, San Francisco, CA 94016\n",
              "\n",
              "[185950 rows x 6 columns]"
            ]
          },
          "metadata": {
            "tags": []
          },
          "execution_count": 9
        }
      ]
    },
    {
      "cell_type": "code",
      "metadata": {
        "id": "bOVV-TXxECkc",
        "outputId": "4b8c93d3-a1cd-4a78-a113-31abb3337a03",
        "colab": {
          "base_uri": "https://localhost:8080/",
          "height": 419
        }
      },
      "source": [
        "shopping_df.rename(columns={'Price Each':'Price', 'Product':'Product Name'})"
      ],
      "execution_count": 10,
      "outputs": [
        {
          "output_type": "execute_result",
          "data": {
            "text/html": [
              "<div>\n",
              "<style scoped>\n",
              "    .dataframe tbody tr th:only-of-type {\n",
              "        vertical-align: middle;\n",
              "    }\n",
              "\n",
              "    .dataframe tbody tr th {\n",
              "        vertical-align: top;\n",
              "    }\n",
              "\n",
              "    .dataframe thead th {\n",
              "        text-align: right;\n",
              "    }\n",
              "</style>\n",
              "<table border=\"1\" class=\"dataframe\">\n",
              "  <thead>\n",
              "    <tr style=\"text-align: right;\">\n",
              "      <th></th>\n",
              "      <th>Order ID</th>\n",
              "      <th>Product Name</th>\n",
              "      <th>Quantity Ordered</th>\n",
              "      <th>Price</th>\n",
              "      <th>Order Date</th>\n",
              "      <th>Purchase Address</th>\n",
              "    </tr>\n",
              "  </thead>\n",
              "  <tbody>\n",
              "    <tr>\n",
              "      <th>0</th>\n",
              "      <td>176558</td>\n",
              "      <td>USB-C Charging Cable</td>\n",
              "      <td>2</td>\n",
              "      <td>11.95</td>\n",
              "      <td>04/19/19 08:46</td>\n",
              "      <td>917 1st St, Dallas, TX 75001</td>\n",
              "    </tr>\n",
              "    <tr>\n",
              "      <th>1</th>\n",
              "      <td>176559</td>\n",
              "      <td>Bose SoundSport Headphones</td>\n",
              "      <td>1</td>\n",
              "      <td>99.99</td>\n",
              "      <td>04/07/19 22:30</td>\n",
              "      <td>682 Chestnut St, Boston, MA 02215</td>\n",
              "    </tr>\n",
              "    <tr>\n",
              "      <th>2</th>\n",
              "      <td>176560</td>\n",
              "      <td>Google Phone</td>\n",
              "      <td>1</td>\n",
              "      <td>600.00</td>\n",
              "      <td>04/12/19 14:38</td>\n",
              "      <td>669 Spruce St, Los Angeles, CA 90001</td>\n",
              "    </tr>\n",
              "    <tr>\n",
              "      <th>3</th>\n",
              "      <td>176560</td>\n",
              "      <td>Wired Headphones</td>\n",
              "      <td>1</td>\n",
              "      <td>11.99</td>\n",
              "      <td>04/12/19 14:38</td>\n",
              "      <td>669 Spruce St, Los Angeles, CA 90001</td>\n",
              "    </tr>\n",
              "    <tr>\n",
              "      <th>4</th>\n",
              "      <td>176561</td>\n",
              "      <td>Wired Headphones</td>\n",
              "      <td>1</td>\n",
              "      <td>11.99</td>\n",
              "      <td>04/30/19 09:27</td>\n",
              "      <td>333 8th St, Los Angeles, CA 90001</td>\n",
              "    </tr>\n",
              "    <tr>\n",
              "      <th>...</th>\n",
              "      <td>...</td>\n",
              "      <td>...</td>\n",
              "      <td>...</td>\n",
              "      <td>...</td>\n",
              "      <td>...</td>\n",
              "      <td>...</td>\n",
              "    </tr>\n",
              "    <tr>\n",
              "      <th>185945</th>\n",
              "      <td>176554</td>\n",
              "      <td>Lightning Charging Cable</td>\n",
              "      <td>1</td>\n",
              "      <td>14.95</td>\n",
              "      <td>03/24/19 11:14</td>\n",
              "      <td>672 12th St, San Francisco, CA 94016</td>\n",
              "    </tr>\n",
              "    <tr>\n",
              "      <th>185946</th>\n",
              "      <td>176555</td>\n",
              "      <td>27in FHD Monitor</td>\n",
              "      <td>1</td>\n",
              "      <td>149.99</td>\n",
              "      <td>03/22/19 20:27</td>\n",
              "      <td>42 4th St, San Francisco, CA 94016</td>\n",
              "    </tr>\n",
              "    <tr>\n",
              "      <th>185947</th>\n",
              "      <td>176556</td>\n",
              "      <td>AAA Batteries (4-pack)</td>\n",
              "      <td>3</td>\n",
              "      <td>2.99</td>\n",
              "      <td>03/14/19 10:29</td>\n",
              "      <td>871 7th St, Los Angeles, CA 90001</td>\n",
              "    </tr>\n",
              "    <tr>\n",
              "      <th>185948</th>\n",
              "      <td>176557</td>\n",
              "      <td>iPhone</td>\n",
              "      <td>1</td>\n",
              "      <td>700.00</td>\n",
              "      <td>03/30/19 12:32</td>\n",
              "      <td>83 Washington St, San Francisco, CA 94016</td>\n",
              "    </tr>\n",
              "    <tr>\n",
              "      <th>185949</th>\n",
              "      <td>176557</td>\n",
              "      <td>Lightning Charging Cable</td>\n",
              "      <td>1</td>\n",
              "      <td>14.95</td>\n",
              "      <td>03/30/19 12:32</td>\n",
              "      <td>83 Washington St, San Francisco, CA 94016</td>\n",
              "    </tr>\n",
              "  </tbody>\n",
              "</table>\n",
              "<p>185950 rows × 6 columns</p>\n",
              "</div>"
            ],
            "text/plain": [
              "        Order ID  ...                           Purchase Address\n",
              "0         176558  ...               917 1st St, Dallas, TX 75001\n",
              "1         176559  ...          682 Chestnut St, Boston, MA 02215\n",
              "2         176560  ...       669 Spruce St, Los Angeles, CA 90001\n",
              "3         176560  ...       669 Spruce St, Los Angeles, CA 90001\n",
              "4         176561  ...          333 8th St, Los Angeles, CA 90001\n",
              "...          ...  ...                                        ...\n",
              "185945    176554  ...       672 12th St, San Francisco, CA 94016\n",
              "185946    176555  ...         42 4th St, San Francisco, CA 94016\n",
              "185947    176556  ...          871 7th St, Los Angeles, CA 90001\n",
              "185948    176557  ...  83 Washington St, San Francisco, CA 94016\n",
              "185949    176557  ...  83 Washington St, San Francisco, CA 94016\n",
              "\n",
              "[185950 rows x 6 columns]"
            ]
          },
          "metadata": {
            "tags": []
          },
          "execution_count": 10
        }
      ]
    },
    {
      "cell_type": "code",
      "metadata": {
        "id": "pMxLSlmnECkb",
        "outputId": "4089b8e2-96a7-4b1e-91a2-355f7288955e",
        "colab": {
          "base_uri": "https://localhost:8080/",
          "height": 419
        }
      },
      "source": [
        "# Alternate way of renaming columns\n",
        "shopping_df.rename(mapper={'Price Each':'Price', 'Product':'Product Name'}, axis=1)"
      ],
      "execution_count": 11,
      "outputs": [
        {
          "output_type": "execute_result",
          "data": {
            "text/html": [
              "<div>\n",
              "<style scoped>\n",
              "    .dataframe tbody tr th:only-of-type {\n",
              "        vertical-align: middle;\n",
              "    }\n",
              "\n",
              "    .dataframe tbody tr th {\n",
              "        vertical-align: top;\n",
              "    }\n",
              "\n",
              "    .dataframe thead th {\n",
              "        text-align: right;\n",
              "    }\n",
              "</style>\n",
              "<table border=\"1\" class=\"dataframe\">\n",
              "  <thead>\n",
              "    <tr style=\"text-align: right;\">\n",
              "      <th></th>\n",
              "      <th>Order ID</th>\n",
              "      <th>Product Name</th>\n",
              "      <th>Quantity Ordered</th>\n",
              "      <th>Price</th>\n",
              "      <th>Order Date</th>\n",
              "      <th>Purchase Address</th>\n",
              "    </tr>\n",
              "  </thead>\n",
              "  <tbody>\n",
              "    <tr>\n",
              "      <th>0</th>\n",
              "      <td>176558</td>\n",
              "      <td>USB-C Charging Cable</td>\n",
              "      <td>2</td>\n",
              "      <td>11.95</td>\n",
              "      <td>04/19/19 08:46</td>\n",
              "      <td>917 1st St, Dallas, TX 75001</td>\n",
              "    </tr>\n",
              "    <tr>\n",
              "      <th>1</th>\n",
              "      <td>176559</td>\n",
              "      <td>Bose SoundSport Headphones</td>\n",
              "      <td>1</td>\n",
              "      <td>99.99</td>\n",
              "      <td>04/07/19 22:30</td>\n",
              "      <td>682 Chestnut St, Boston, MA 02215</td>\n",
              "    </tr>\n",
              "    <tr>\n",
              "      <th>2</th>\n",
              "      <td>176560</td>\n",
              "      <td>Google Phone</td>\n",
              "      <td>1</td>\n",
              "      <td>600.00</td>\n",
              "      <td>04/12/19 14:38</td>\n",
              "      <td>669 Spruce St, Los Angeles, CA 90001</td>\n",
              "    </tr>\n",
              "    <tr>\n",
              "      <th>3</th>\n",
              "      <td>176560</td>\n",
              "      <td>Wired Headphones</td>\n",
              "      <td>1</td>\n",
              "      <td>11.99</td>\n",
              "      <td>04/12/19 14:38</td>\n",
              "      <td>669 Spruce St, Los Angeles, CA 90001</td>\n",
              "    </tr>\n",
              "    <tr>\n",
              "      <th>4</th>\n",
              "      <td>176561</td>\n",
              "      <td>Wired Headphones</td>\n",
              "      <td>1</td>\n",
              "      <td>11.99</td>\n",
              "      <td>04/30/19 09:27</td>\n",
              "      <td>333 8th St, Los Angeles, CA 90001</td>\n",
              "    </tr>\n",
              "    <tr>\n",
              "      <th>...</th>\n",
              "      <td>...</td>\n",
              "      <td>...</td>\n",
              "      <td>...</td>\n",
              "      <td>...</td>\n",
              "      <td>...</td>\n",
              "      <td>...</td>\n",
              "    </tr>\n",
              "    <tr>\n",
              "      <th>185945</th>\n",
              "      <td>176554</td>\n",
              "      <td>Lightning Charging Cable</td>\n",
              "      <td>1</td>\n",
              "      <td>14.95</td>\n",
              "      <td>03/24/19 11:14</td>\n",
              "      <td>672 12th St, San Francisco, CA 94016</td>\n",
              "    </tr>\n",
              "    <tr>\n",
              "      <th>185946</th>\n",
              "      <td>176555</td>\n",
              "      <td>27in FHD Monitor</td>\n",
              "      <td>1</td>\n",
              "      <td>149.99</td>\n",
              "      <td>03/22/19 20:27</td>\n",
              "      <td>42 4th St, San Francisco, CA 94016</td>\n",
              "    </tr>\n",
              "    <tr>\n",
              "      <th>185947</th>\n",
              "      <td>176556</td>\n",
              "      <td>AAA Batteries (4-pack)</td>\n",
              "      <td>3</td>\n",
              "      <td>2.99</td>\n",
              "      <td>03/14/19 10:29</td>\n",
              "      <td>871 7th St, Los Angeles, CA 90001</td>\n",
              "    </tr>\n",
              "    <tr>\n",
              "      <th>185948</th>\n",
              "      <td>176557</td>\n",
              "      <td>iPhone</td>\n",
              "      <td>1</td>\n",
              "      <td>700.00</td>\n",
              "      <td>03/30/19 12:32</td>\n",
              "      <td>83 Washington St, San Francisco, CA 94016</td>\n",
              "    </tr>\n",
              "    <tr>\n",
              "      <th>185949</th>\n",
              "      <td>176557</td>\n",
              "      <td>Lightning Charging Cable</td>\n",
              "      <td>1</td>\n",
              "      <td>14.95</td>\n",
              "      <td>03/30/19 12:32</td>\n",
              "      <td>83 Washington St, San Francisco, CA 94016</td>\n",
              "    </tr>\n",
              "  </tbody>\n",
              "</table>\n",
              "<p>185950 rows × 6 columns</p>\n",
              "</div>"
            ],
            "text/plain": [
              "        Order ID  ...                           Purchase Address\n",
              "0         176558  ...               917 1st St, Dallas, TX 75001\n",
              "1         176559  ...          682 Chestnut St, Boston, MA 02215\n",
              "2         176560  ...       669 Spruce St, Los Angeles, CA 90001\n",
              "3         176560  ...       669 Spruce St, Los Angeles, CA 90001\n",
              "4         176561  ...          333 8th St, Los Angeles, CA 90001\n",
              "...          ...  ...                                        ...\n",
              "185945    176554  ...       672 12th St, San Francisco, CA 94016\n",
              "185946    176555  ...         42 4th St, San Francisco, CA 94016\n",
              "185947    176556  ...          871 7th St, Los Angeles, CA 90001\n",
              "185948    176557  ...  83 Washington St, San Francisco, CA 94016\n",
              "185949    176557  ...  83 Washington St, San Francisco, CA 94016\n",
              "\n",
              "[185950 rows x 6 columns]"
            ]
          },
          "metadata": {
            "tags": []
          },
          "execution_count": 11
        }
      ]
    },
    {
      "cell_type": "markdown",
      "metadata": {
        "id": "4aNxiXoHHOMD"
      },
      "source": [
        "**After carefully checking the changes, use `inplace=True` to make the changes reflect in the actual dataframe.**"
      ]
    },
    {
      "cell_type": "code",
      "metadata": {
        "id": "yRraACCCHbEc"
      },
      "source": [
        "shopping_df.rename(columns={'Price Each':'Price', 'Product':'Product Name'}, inplace=True)"
      ],
      "execution_count": 12,
      "outputs": []
    },
    {
      "cell_type": "code",
      "metadata": {
        "id": "JvZJzW_hHgxC",
        "outputId": "e6997cc4-6926-4875-8461-4287dc1a09ac",
        "colab": {
          "base_uri": "https://localhost:8080/",
          "height": 419
        }
      },
      "source": [
        "shopping_df"
      ],
      "execution_count": 13,
      "outputs": [
        {
          "output_type": "execute_result",
          "data": {
            "text/html": [
              "<div>\n",
              "<style scoped>\n",
              "    .dataframe tbody tr th:only-of-type {\n",
              "        vertical-align: middle;\n",
              "    }\n",
              "\n",
              "    .dataframe tbody tr th {\n",
              "        vertical-align: top;\n",
              "    }\n",
              "\n",
              "    .dataframe thead th {\n",
              "        text-align: right;\n",
              "    }\n",
              "</style>\n",
              "<table border=\"1\" class=\"dataframe\">\n",
              "  <thead>\n",
              "    <tr style=\"text-align: right;\">\n",
              "      <th></th>\n",
              "      <th>Order ID</th>\n",
              "      <th>Product Name</th>\n",
              "      <th>Quantity Ordered</th>\n",
              "      <th>Price</th>\n",
              "      <th>Order Date</th>\n",
              "      <th>Purchase Address</th>\n",
              "    </tr>\n",
              "  </thead>\n",
              "  <tbody>\n",
              "    <tr>\n",
              "      <th>0</th>\n",
              "      <td>176558</td>\n",
              "      <td>USB-C Charging Cable</td>\n",
              "      <td>2</td>\n",
              "      <td>11.95</td>\n",
              "      <td>04/19/19 08:46</td>\n",
              "      <td>917 1st St, Dallas, TX 75001</td>\n",
              "    </tr>\n",
              "    <tr>\n",
              "      <th>1</th>\n",
              "      <td>176559</td>\n",
              "      <td>Bose SoundSport Headphones</td>\n",
              "      <td>1</td>\n",
              "      <td>99.99</td>\n",
              "      <td>04/07/19 22:30</td>\n",
              "      <td>682 Chestnut St, Boston, MA 02215</td>\n",
              "    </tr>\n",
              "    <tr>\n",
              "      <th>2</th>\n",
              "      <td>176560</td>\n",
              "      <td>Google Phone</td>\n",
              "      <td>1</td>\n",
              "      <td>600.00</td>\n",
              "      <td>04/12/19 14:38</td>\n",
              "      <td>669 Spruce St, Los Angeles, CA 90001</td>\n",
              "    </tr>\n",
              "    <tr>\n",
              "      <th>3</th>\n",
              "      <td>176560</td>\n",
              "      <td>Wired Headphones</td>\n",
              "      <td>1</td>\n",
              "      <td>11.99</td>\n",
              "      <td>04/12/19 14:38</td>\n",
              "      <td>669 Spruce St, Los Angeles, CA 90001</td>\n",
              "    </tr>\n",
              "    <tr>\n",
              "      <th>4</th>\n",
              "      <td>176561</td>\n",
              "      <td>Wired Headphones</td>\n",
              "      <td>1</td>\n",
              "      <td>11.99</td>\n",
              "      <td>04/30/19 09:27</td>\n",
              "      <td>333 8th St, Los Angeles, CA 90001</td>\n",
              "    </tr>\n",
              "    <tr>\n",
              "      <th>...</th>\n",
              "      <td>...</td>\n",
              "      <td>...</td>\n",
              "      <td>...</td>\n",
              "      <td>...</td>\n",
              "      <td>...</td>\n",
              "      <td>...</td>\n",
              "    </tr>\n",
              "    <tr>\n",
              "      <th>185945</th>\n",
              "      <td>176554</td>\n",
              "      <td>Lightning Charging Cable</td>\n",
              "      <td>1</td>\n",
              "      <td>14.95</td>\n",
              "      <td>03/24/19 11:14</td>\n",
              "      <td>672 12th St, San Francisco, CA 94016</td>\n",
              "    </tr>\n",
              "    <tr>\n",
              "      <th>185946</th>\n",
              "      <td>176555</td>\n",
              "      <td>27in FHD Monitor</td>\n",
              "      <td>1</td>\n",
              "      <td>149.99</td>\n",
              "      <td>03/22/19 20:27</td>\n",
              "      <td>42 4th St, San Francisco, CA 94016</td>\n",
              "    </tr>\n",
              "    <tr>\n",
              "      <th>185947</th>\n",
              "      <td>176556</td>\n",
              "      <td>AAA Batteries (4-pack)</td>\n",
              "      <td>3</td>\n",
              "      <td>2.99</td>\n",
              "      <td>03/14/19 10:29</td>\n",
              "      <td>871 7th St, Los Angeles, CA 90001</td>\n",
              "    </tr>\n",
              "    <tr>\n",
              "      <th>185948</th>\n",
              "      <td>176557</td>\n",
              "      <td>iPhone</td>\n",
              "      <td>1</td>\n",
              "      <td>700.00</td>\n",
              "      <td>03/30/19 12:32</td>\n",
              "      <td>83 Washington St, San Francisco, CA 94016</td>\n",
              "    </tr>\n",
              "    <tr>\n",
              "      <th>185949</th>\n",
              "      <td>176557</td>\n",
              "      <td>Lightning Charging Cable</td>\n",
              "      <td>1</td>\n",
              "      <td>14.95</td>\n",
              "      <td>03/30/19 12:32</td>\n",
              "      <td>83 Washington St, San Francisco, CA 94016</td>\n",
              "    </tr>\n",
              "  </tbody>\n",
              "</table>\n",
              "<p>185950 rows × 6 columns</p>\n",
              "</div>"
            ],
            "text/plain": [
              "        Order ID  ...                           Purchase Address\n",
              "0         176558  ...               917 1st St, Dallas, TX 75001\n",
              "1         176559  ...          682 Chestnut St, Boston, MA 02215\n",
              "2         176560  ...       669 Spruce St, Los Angeles, CA 90001\n",
              "3         176560  ...       669 Spruce St, Los Angeles, CA 90001\n",
              "4         176561  ...          333 8th St, Los Angeles, CA 90001\n",
              "...          ...  ...                                        ...\n",
              "185945    176554  ...       672 12th St, San Francisco, CA 94016\n",
              "185946    176555  ...         42 4th St, San Francisco, CA 94016\n",
              "185947    176556  ...          871 7th St, Los Angeles, CA 90001\n",
              "185948    176557  ...  83 Washington St, San Francisco, CA 94016\n",
              "185949    176557  ...  83 Washington St, San Francisco, CA 94016\n",
              "\n",
              "[185950 rows x 6 columns]"
            ]
          },
          "metadata": {
            "tags": []
          },
          "execution_count": 13
        }
      ]
    },
    {
      "cell_type": "markdown",
      "metadata": {
        "id": "VNdtdWe-xFtJ"
      },
      "source": [
        "# Modifying Rows"
      ]
    },
    {
      "cell_type": "markdown",
      "metadata": {
        "id": "jznlXdYsJKFb"
      },
      "source": [
        "Trying to update a value as shown below will raise an error. Instead, **values should be updated using `loc` or `iloc`.**"
      ]
    },
    {
      "cell_type": "code",
      "metadata": {
        "id": "QMitYpd_FEyJ",
        "outputId": "2622fec7-c0bc-4e1b-97db-6deb3fb855bd",
        "colab": {
          "base_uri": "https://localhost:8080/"
        }
      },
      "source": [
        "filt = (people_df['email'] == 'KristenC@gmail.com')\n",
        "people_df[filt]['last_name'] = 'Smith'"
      ],
      "execution_count": 14,
      "outputs": [
        {
          "output_type": "stream",
          "text": [
            "/usr/local/lib/python3.6/dist-packages/ipykernel_launcher.py:2: SettingWithCopyWarning: \n",
            "A value is trying to be set on a copy of a slice from a DataFrame.\n",
            "Try using .loc[row_indexer,col_indexer] = value instead\n",
            "\n",
            "See the caveats in the documentation: https://pandas.pydata.org/pandas-docs/stable/user_guide/indexing.html#returning-a-view-versus-a-copy\n",
            "  \n"
          ],
          "name": "stderr"
        }
      ]
    },
    {
      "cell_type": "code",
      "metadata": {
        "id": "kuQgaJV0Gvih",
        "outputId": "fda544f2-7c52-4014-e687-b75895d31e40",
        "colab": {
          "base_uri": "https://localhost:8080/",
          "height": 142
        }
      },
      "source": [
        "people_df"
      ],
      "execution_count": 15,
      "outputs": [
        {
          "output_type": "execute_result",
          "data": {
            "text/html": [
              "<div>\n",
              "<style scoped>\n",
              "    .dataframe tbody tr th:only-of-type {\n",
              "        vertical-align: middle;\n",
              "    }\n",
              "\n",
              "    .dataframe tbody tr th {\n",
              "        vertical-align: top;\n",
              "    }\n",
              "\n",
              "    .dataframe thead th {\n",
              "        text-align: right;\n",
              "    }\n",
              "</style>\n",
              "<table border=\"1\" class=\"dataframe\">\n",
              "  <thead>\n",
              "    <tr style=\"text-align: right;\">\n",
              "      <th></th>\n",
              "      <th>f_name</th>\n",
              "      <th>l_name</th>\n",
              "      <th>email</th>\n",
              "    </tr>\n",
              "  </thead>\n",
              "  <tbody>\n",
              "    <tr>\n",
              "      <th>0</th>\n",
              "      <td>Kristen</td>\n",
              "      <td>Carol</td>\n",
              "      <td>KristenC@gmail.com</td>\n",
              "    </tr>\n",
              "    <tr>\n",
              "      <th>1</th>\n",
              "      <td>Maxine</td>\n",
              "      <td>Willians</td>\n",
              "      <td>Maxine.Williams@email.com</td>\n",
              "    </tr>\n",
              "    <tr>\n",
              "      <th>2</th>\n",
              "      <td>John</td>\n",
              "      <td>Smith</td>\n",
              "      <td>JohnSmith@email.com</td>\n",
              "    </tr>\n",
              "  </tbody>\n",
              "</table>\n",
              "</div>"
            ],
            "text/plain": [
              "    f_name    l_name                      email\n",
              "0  Kristen     Carol         KristenC@gmail.com\n",
              "1   Maxine  Willians  Maxine.Williams@email.com\n",
              "2     John     Smith        JohnSmith@email.com"
            ]
          },
          "metadata": {
            "tags": []
          },
          "execution_count": 15
        }
      ]
    },
    {
      "cell_type": "markdown",
      "metadata": {
        "id": "phr67PdRDI3-"
      },
      "source": [
        "### Updating values with `loc`"
      ]
    },
    {
      "cell_type": "code",
      "metadata": {
        "id": "MmECC62OSzyx",
        "outputId": "f11b244f-153b-48b7-9392-c8dc7cf1b102",
        "colab": {
          "base_uri": "https://localhost:8080/",
          "height": 142
        }
      },
      "source": [
        "people_df.loc[1] = ['Will', 'Tatum', 'Will.T@gmail.com']\n",
        "people_df"
      ],
      "execution_count": 16,
      "outputs": [
        {
          "output_type": "execute_result",
          "data": {
            "text/html": [
              "<div>\n",
              "<style scoped>\n",
              "    .dataframe tbody tr th:only-of-type {\n",
              "        vertical-align: middle;\n",
              "    }\n",
              "\n",
              "    .dataframe tbody tr th {\n",
              "        vertical-align: top;\n",
              "    }\n",
              "\n",
              "    .dataframe thead th {\n",
              "        text-align: right;\n",
              "    }\n",
              "</style>\n",
              "<table border=\"1\" class=\"dataframe\">\n",
              "  <thead>\n",
              "    <tr style=\"text-align: right;\">\n",
              "      <th></th>\n",
              "      <th>f_name</th>\n",
              "      <th>l_name</th>\n",
              "      <th>email</th>\n",
              "    </tr>\n",
              "  </thead>\n",
              "  <tbody>\n",
              "    <tr>\n",
              "      <th>0</th>\n",
              "      <td>Kristen</td>\n",
              "      <td>Carol</td>\n",
              "      <td>KristenC@gmail.com</td>\n",
              "    </tr>\n",
              "    <tr>\n",
              "      <th>1</th>\n",
              "      <td>Will</td>\n",
              "      <td>Tatum</td>\n",
              "      <td>Will.T@gmail.com</td>\n",
              "    </tr>\n",
              "    <tr>\n",
              "      <th>2</th>\n",
              "      <td>John</td>\n",
              "      <td>Smith</td>\n",
              "      <td>JohnSmith@email.com</td>\n",
              "    </tr>\n",
              "  </tbody>\n",
              "</table>\n",
              "</div>"
            ],
            "text/plain": [
              "    f_name l_name                email\n",
              "0  Kristen  Carol   KristenC@gmail.com\n",
              "1     Will  Tatum     Will.T@gmail.com\n",
              "2     John  Smith  JohnSmith@email.com"
            ]
          },
          "metadata": {
            "tags": []
          },
          "execution_count": 16
        }
      ]
    },
    {
      "cell_type": "code",
      "metadata": {
        "id": "g3s0kTq0DI3_",
        "outputId": "5872f01f-119f-442b-fb81-3e76cf5531f9",
        "colab": {
          "base_uri": "https://localhost:8080/",
          "height": 142
        }
      },
      "source": [
        "people_df.loc[2, ['f_name', 'email']] = ['Johnny', 'JohnnySmith@email.com']\n",
        "people_df"
      ],
      "execution_count": 17,
      "outputs": [
        {
          "output_type": "execute_result",
          "data": {
            "text/html": [
              "<div>\n",
              "<style scoped>\n",
              "    .dataframe tbody tr th:only-of-type {\n",
              "        vertical-align: middle;\n",
              "    }\n",
              "\n",
              "    .dataframe tbody tr th {\n",
              "        vertical-align: top;\n",
              "    }\n",
              "\n",
              "    .dataframe thead th {\n",
              "        text-align: right;\n",
              "    }\n",
              "</style>\n",
              "<table border=\"1\" class=\"dataframe\">\n",
              "  <thead>\n",
              "    <tr style=\"text-align: right;\">\n",
              "      <th></th>\n",
              "      <th>f_name</th>\n",
              "      <th>l_name</th>\n",
              "      <th>email</th>\n",
              "    </tr>\n",
              "  </thead>\n",
              "  <tbody>\n",
              "    <tr>\n",
              "      <th>0</th>\n",
              "      <td>Kristen</td>\n",
              "      <td>Carol</td>\n",
              "      <td>KristenC@gmail.com</td>\n",
              "    </tr>\n",
              "    <tr>\n",
              "      <th>1</th>\n",
              "      <td>Will</td>\n",
              "      <td>Tatum</td>\n",
              "      <td>Will.T@gmail.com</td>\n",
              "    </tr>\n",
              "    <tr>\n",
              "      <th>2</th>\n",
              "      <td>Johnny</td>\n",
              "      <td>Smith</td>\n",
              "      <td>JohnnySmith@email.com</td>\n",
              "    </tr>\n",
              "  </tbody>\n",
              "</table>\n",
              "</div>"
            ],
            "text/plain": [
              "    f_name l_name                  email\n",
              "0  Kristen  Carol     KristenC@gmail.com\n",
              "1     Will  Tatum       Will.T@gmail.com\n",
              "2   Johnny  Smith  JohnnySmith@email.com"
            ]
          },
          "metadata": {
            "tags": []
          },
          "execution_count": 17
        }
      ]
    },
    {
      "cell_type": "code",
      "metadata": {
        "id": "aFDFxad8DI4A",
        "outputId": "19215cbc-0ce2-4ae7-ee57-59f48a7d4ff6",
        "colab": {
          "base_uri": "https://localhost:8080/",
          "height": 142
        }
      },
      "source": [
        "people_df.loc[[1, 2], ['f_name']] = 'Apple'\n",
        "people_df"
      ],
      "execution_count": 18,
      "outputs": [
        {
          "output_type": "execute_result",
          "data": {
            "text/html": [
              "<div>\n",
              "<style scoped>\n",
              "    .dataframe tbody tr th:only-of-type {\n",
              "        vertical-align: middle;\n",
              "    }\n",
              "\n",
              "    .dataframe tbody tr th {\n",
              "        vertical-align: top;\n",
              "    }\n",
              "\n",
              "    .dataframe thead th {\n",
              "        text-align: right;\n",
              "    }\n",
              "</style>\n",
              "<table border=\"1\" class=\"dataframe\">\n",
              "  <thead>\n",
              "    <tr style=\"text-align: right;\">\n",
              "      <th></th>\n",
              "      <th>f_name</th>\n",
              "      <th>l_name</th>\n",
              "      <th>email</th>\n",
              "    </tr>\n",
              "  </thead>\n",
              "  <tbody>\n",
              "    <tr>\n",
              "      <th>0</th>\n",
              "      <td>Kristen</td>\n",
              "      <td>Carol</td>\n",
              "      <td>KristenC@gmail.com</td>\n",
              "    </tr>\n",
              "    <tr>\n",
              "      <th>1</th>\n",
              "      <td>Apple</td>\n",
              "      <td>Tatum</td>\n",
              "      <td>Will.T@gmail.com</td>\n",
              "    </tr>\n",
              "    <tr>\n",
              "      <th>2</th>\n",
              "      <td>Apple</td>\n",
              "      <td>Smith</td>\n",
              "      <td>JohnnySmith@email.com</td>\n",
              "    </tr>\n",
              "  </tbody>\n",
              "</table>\n",
              "</div>"
            ],
            "text/plain": [
              "    f_name l_name                  email\n",
              "0  Kristen  Carol     KristenC@gmail.com\n",
              "1    Apple  Tatum       Will.T@gmail.com\n",
              "2    Apple  Smith  JohnnySmith@email.com"
            ]
          },
          "metadata": {
            "tags": []
          },
          "execution_count": 18
        }
      ]
    },
    {
      "cell_type": "markdown",
      "metadata": {
        "id": "IerzDzcvxIm8"
      },
      "source": [
        "# Methods to Update Data"
      ]
    },
    {
      "cell_type": "markdown",
      "metadata": {
        "id": "2Yu-_SULbtP0"
      },
      "source": [
        "### pd.Series.apply\n",
        "* `pd.Series.apply(func, convert_dtype=True, args=(), **kwds)`\n",
        "  *   Applies the function on the values in the Series.\n",
        "  *   `func` is the Python function or NumPy ufunc to apply.\n",
        "  *   `args` are the positional arguments passed to func after the series value.\n",
        "  *  `**kwds` are the additional keyword arguments passed to func."
      ]
    },
    {
      "cell_type": "code",
      "metadata": {
        "id": "V2q8KoZ9GgYT"
      },
      "source": [
        "def change_product_name(product_name):\n",
        "  new_name = product_name.lower()\n",
        "  new_name = new_name.replace(\" \", \"_\")\n",
        "  return new_name"
      ],
      "execution_count": 19,
      "outputs": []
    },
    {
      "cell_type": "code",
      "metadata": {
        "id": "wal7-YW6-kKu",
        "outputId": "8fabe2c1-f782-4724-ff70-3521bd60b21f",
        "colab": {
          "base_uri": "https://localhost:8080/"
        }
      },
      "source": [
        "shopping_df[\"Product Name\"].apply(change_product_name)"
      ],
      "execution_count": 20,
      "outputs": [
        {
          "output_type": "execute_result",
          "data": {
            "text/plain": [
              "0               usb-c_charging_cable\n",
              "1         bose_soundsport_headphones\n",
              "2                       google_phone\n",
              "3                   wired_headphones\n",
              "4                   wired_headphones\n",
              "                     ...            \n",
              "185945      lightning_charging_cable\n",
              "185946              27in_fhd_monitor\n",
              "185947        aaa_batteries_(4-pack)\n",
              "185948                        iphone\n",
              "185949      lightning_charging_cable\n",
              "Name: Product Name, Length: 185950, dtype: object"
            ]
          },
          "metadata": {
            "tags": []
          },
          "execution_count": 20
        }
      ]
    },
    {
      "cell_type": "markdown",
      "metadata": {
        "id": "RKulw8xxITc2"
      },
      "source": [
        "**Can also use lambda functions**"
      ]
    },
    {
      "cell_type": "code",
      "metadata": {
        "id": "-0Uoo9mb-LXX",
        "outputId": "01a05deb-7f84-4d2e-ec34-c27467686edc",
        "colab": {
          "base_uri": "https://localhost:8080/"
        }
      },
      "source": [
        "shopping_df[\"Price\"].apply(lambda x: x + 5)"
      ],
      "execution_count": 21,
      "outputs": [
        {
          "output_type": "execute_result",
          "data": {
            "text/plain": [
              "0          16.95\n",
              "1         104.99\n",
              "2         605.00\n",
              "3          16.99\n",
              "4          16.99\n",
              "           ...  \n",
              "185945     19.95\n",
              "185946    154.99\n",
              "185947      7.99\n",
              "185948    705.00\n",
              "185949     19.95\n",
              "Name: Price, Length: 185950, dtype: float64"
            ]
          },
          "metadata": {
            "tags": []
          },
          "execution_count": 21
        }
      ]
    },
    {
      "cell_type": "code",
      "metadata": {
        "id": "7h4ueIztHb4i",
        "outputId": "e77a046b-5320-4d5d-c38d-61c41757985e",
        "colab": {
          "base_uri": "https://localhost:8080/"
        }
      },
      "source": [
        "shopping_df[\"Product Name\"].apply(len)"
      ],
      "execution_count": 24,
      "outputs": [
        {
          "output_type": "execute_result",
          "data": {
            "text/plain": [
              "0         20\n",
              "1         26\n",
              "2         12\n",
              "3         16\n",
              "4         16\n",
              "          ..\n",
              "185945    24\n",
              "185946    16\n",
              "185947    22\n",
              "185948     6\n",
              "185949    24\n",
              "Name: Product Name, Length: 185950, dtype: int64"
            ]
          },
          "metadata": {
            "tags": []
          },
          "execution_count": 24
        }
      ]
    },
    {
      "cell_type": "markdown",
      "metadata": {
        "id": "s2mExaQS_Lpk"
      },
      "source": [
        "Apply can be used directly with dataframes too. But, the Objects passed to the function are `Series` objects"
      ]
    },
    {
      "cell_type": "code",
      "metadata": {
        "id": "VicxLYj7Hg_V",
        "outputId": "1b7ba42b-0eee-4a25-97f8-47e444f269c2",
        "colab": {
          "base_uri": "https://localhost:8080/"
        }
      },
      "source": [
        "shopping_df.apply(len)"
      ],
      "execution_count": 25,
      "outputs": [
        {
          "output_type": "execute_result",
          "data": {
            "text/plain": [
              "Order ID            185950\n",
              "Product Name        185950\n",
              "Quantity Ordered    185950\n",
              "Price               185950\n",
              "Order Date          185950\n",
              "Purchase Address    185950\n",
              "dtype: int64"
            ]
          },
          "metadata": {
            "tags": []
          },
          "execution_count": 25
        }
      ]
    },
    {
      "cell_type": "markdown",
      "metadata": {
        "id": "KFI2hiJOqlX0"
      },
      "source": [
        "### pd.DataFrame.applymap\n",
        "* `pd.DataFrame.applymap(func)`\n",
        "  *   Applies the function to every element of the DataFrame.\n",
        "  *   `func` is the Python function to apply."
      ]
    },
    {
      "cell_type": "code",
      "metadata": {
        "id": "fAOTzlhkZthG"
      },
      "source": [
        "people = {\n",
        "    \"full_name\": [\"Jack Smith\", 'Jane Lodge', 'John Doe', 'Kristen Carol'], \n",
        "    \"email\": [\"JackSmith@gmail.com\", 'JaneLodge@email.com', 'JohnDoe@email.com', 'KristenC@email.com']\n",
        "}"
      ],
      "execution_count": 26,
      "outputs": []
    },
    {
      "cell_type": "code",
      "metadata": {
        "id": "pZZMVc32lsJS",
        "outputId": "e275de7b-fc8a-4e1e-d1a0-38b1654b5c3f",
        "colab": {
          "base_uri": "https://localhost:8080/",
          "height": 173
        }
      },
      "source": [
        "people_df = pd.DataFrame(people)\n",
        "people_df"
      ],
      "execution_count": 27,
      "outputs": [
        {
          "output_type": "execute_result",
          "data": {
            "text/html": [
              "<div>\n",
              "<style scoped>\n",
              "    .dataframe tbody tr th:only-of-type {\n",
              "        vertical-align: middle;\n",
              "    }\n",
              "\n",
              "    .dataframe tbody tr th {\n",
              "        vertical-align: top;\n",
              "    }\n",
              "\n",
              "    .dataframe thead th {\n",
              "        text-align: right;\n",
              "    }\n",
              "</style>\n",
              "<table border=\"1\" class=\"dataframe\">\n",
              "  <thead>\n",
              "    <tr style=\"text-align: right;\">\n",
              "      <th></th>\n",
              "      <th>full_name</th>\n",
              "      <th>email</th>\n",
              "    </tr>\n",
              "  </thead>\n",
              "  <tbody>\n",
              "    <tr>\n",
              "      <th>0</th>\n",
              "      <td>Jack Smith</td>\n",
              "      <td>JackSmith@gmail.com</td>\n",
              "    </tr>\n",
              "    <tr>\n",
              "      <th>1</th>\n",
              "      <td>Jane Lodge</td>\n",
              "      <td>JaneLodge@email.com</td>\n",
              "    </tr>\n",
              "    <tr>\n",
              "      <th>2</th>\n",
              "      <td>John Doe</td>\n",
              "      <td>JohnDoe@email.com</td>\n",
              "    </tr>\n",
              "    <tr>\n",
              "      <th>3</th>\n",
              "      <td>Kristen Carol</td>\n",
              "      <td>KristenC@email.com</td>\n",
              "    </tr>\n",
              "  </tbody>\n",
              "</table>\n",
              "</div>"
            ],
            "text/plain": [
              "       full_name                email\n",
              "0     Jack Smith  JackSmith@gmail.com\n",
              "1     Jane Lodge  JaneLodge@email.com\n",
              "2       John Doe    JohnDoe@email.com\n",
              "3  Kristen Carol   KristenC@email.com"
            ]
          },
          "metadata": {
            "tags": []
          },
          "execution_count": 27
        }
      ]
    },
    {
      "cell_type": "code",
      "metadata": {
        "id": "nwCRFGM-Ax01",
        "outputId": "7ba9ae55-e1b3-4b8e-86cf-13fb96590cbb",
        "colab": {
          "base_uri": "https://localhost:8080/",
          "height": 173
        }
      },
      "source": [
        "people_df.applymap(len)"
      ],
      "execution_count": 28,
      "outputs": [
        {
          "output_type": "execute_result",
          "data": {
            "text/html": [
              "<div>\n",
              "<style scoped>\n",
              "    .dataframe tbody tr th:only-of-type {\n",
              "        vertical-align: middle;\n",
              "    }\n",
              "\n",
              "    .dataframe tbody tr th {\n",
              "        vertical-align: top;\n",
              "    }\n",
              "\n",
              "    .dataframe thead th {\n",
              "        text-align: right;\n",
              "    }\n",
              "</style>\n",
              "<table border=\"1\" class=\"dataframe\">\n",
              "  <thead>\n",
              "    <tr style=\"text-align: right;\">\n",
              "      <th></th>\n",
              "      <th>full_name</th>\n",
              "      <th>email</th>\n",
              "    </tr>\n",
              "  </thead>\n",
              "  <tbody>\n",
              "    <tr>\n",
              "      <th>0</th>\n",
              "      <td>10</td>\n",
              "      <td>19</td>\n",
              "    </tr>\n",
              "    <tr>\n",
              "      <th>1</th>\n",
              "      <td>10</td>\n",
              "      <td>19</td>\n",
              "    </tr>\n",
              "    <tr>\n",
              "      <th>2</th>\n",
              "      <td>8</td>\n",
              "      <td>17</td>\n",
              "    </tr>\n",
              "    <tr>\n",
              "      <th>3</th>\n",
              "      <td>13</td>\n",
              "      <td>18</td>\n",
              "    </tr>\n",
              "  </tbody>\n",
              "</table>\n",
              "</div>"
            ],
            "text/plain": [
              "   full_name  email\n",
              "0         10     19\n",
              "1         10     19\n",
              "2          8     17\n",
              "3         13     18"
            ]
          },
          "metadata": {
            "tags": []
          },
          "execution_count": 28
        }
      ]
    },
    {
      "cell_type": "code",
      "metadata": {
        "id": "MtVDkc-KBBG3",
        "outputId": "adaa11a6-f68d-4504-ca17-c14e9255e888",
        "colab": {
          "base_uri": "https://localhost:8080/",
          "height": 173
        }
      },
      "source": [
        "people_df.applymap(str.lower)"
      ],
      "execution_count": 29,
      "outputs": [
        {
          "output_type": "execute_result",
          "data": {
            "text/html": [
              "<div>\n",
              "<style scoped>\n",
              "    .dataframe tbody tr th:only-of-type {\n",
              "        vertical-align: middle;\n",
              "    }\n",
              "\n",
              "    .dataframe tbody tr th {\n",
              "        vertical-align: top;\n",
              "    }\n",
              "\n",
              "    .dataframe thead th {\n",
              "        text-align: right;\n",
              "    }\n",
              "</style>\n",
              "<table border=\"1\" class=\"dataframe\">\n",
              "  <thead>\n",
              "    <tr style=\"text-align: right;\">\n",
              "      <th></th>\n",
              "      <th>full_name</th>\n",
              "      <th>email</th>\n",
              "    </tr>\n",
              "  </thead>\n",
              "  <tbody>\n",
              "    <tr>\n",
              "      <th>0</th>\n",
              "      <td>jack smith</td>\n",
              "      <td>jacksmith@gmail.com</td>\n",
              "    </tr>\n",
              "    <tr>\n",
              "      <th>1</th>\n",
              "      <td>jane lodge</td>\n",
              "      <td>janelodge@email.com</td>\n",
              "    </tr>\n",
              "    <tr>\n",
              "      <th>2</th>\n",
              "      <td>john doe</td>\n",
              "      <td>johndoe@email.com</td>\n",
              "    </tr>\n",
              "    <tr>\n",
              "      <th>3</th>\n",
              "      <td>kristen carol</td>\n",
              "      <td>kristenc@email.com</td>\n",
              "    </tr>\n",
              "  </tbody>\n",
              "</table>\n",
              "</div>"
            ],
            "text/plain": [
              "       full_name                email\n",
              "0     jack smith  jacksmith@gmail.com\n",
              "1     jane lodge  janelodge@email.com\n",
              "2       john doe    johndoe@email.com\n",
              "3  kristen carol   kristenc@email.com"
            ]
          },
          "metadata": {
            "tags": []
          },
          "execution_count": 29
        }
      ]
    },
    {
      "cell_type": "markdown",
      "metadata": {
        "id": "VWG8dRPBqsHx"
      },
      "source": [
        "### pd.Series.map\n",
        "* `pd.Series.map(arg)`\n",
        "  *   It is used to map values of the Series according to input correspondence.\n",
        "  *   `arg` is used for substituting each value in a Series with another value. It may be a function, a dict or a Series.\n",
        "\n",
        "**Values in the Series that are NOT in the dictionary are converted to `NaN`.**"
      ]
    },
    {
      "cell_type": "code",
      "metadata": {
        "id": "XnaJAJ07CDn1",
        "outputId": "586bae73-db32-480a-f262-ee5c6ce876e2",
        "colab": {
          "base_uri": "https://localhost:8080/",
          "height": 606
        }
      },
      "source": [
        "shopping_df"
      ],
      "execution_count": 30,
      "outputs": [
        {
          "output_type": "execute_result",
          "data": {
            "text/html": [
              "<div>\n",
              "<style scoped>\n",
              "    .dataframe tbody tr th:only-of-type {\n",
              "        vertical-align: middle;\n",
              "    }\n",
              "\n",
              "    .dataframe tbody tr th {\n",
              "        vertical-align: top;\n",
              "    }\n",
              "\n",
              "    .dataframe thead th {\n",
              "        text-align: right;\n",
              "    }\n",
              "</style>\n",
              "<table border=\"1\" class=\"dataframe\">\n",
              "  <thead>\n",
              "    <tr style=\"text-align: right;\">\n",
              "      <th></th>\n",
              "      <th>Order ID</th>\n",
              "      <th>Product Name</th>\n",
              "      <th>Quantity Ordered</th>\n",
              "      <th>Price</th>\n",
              "      <th>Order Date</th>\n",
              "      <th>Purchase Address</th>\n",
              "    </tr>\n",
              "  </thead>\n",
              "  <tbody>\n",
              "    <tr>\n",
              "      <th>0</th>\n",
              "      <td>176558</td>\n",
              "      <td>USB-C Charging Cable</td>\n",
              "      <td>2</td>\n",
              "      <td>11.95</td>\n",
              "      <td>04/19/19 08:46</td>\n",
              "      <td>917 1st St, Dallas, TX 75001</td>\n",
              "    </tr>\n",
              "    <tr>\n",
              "      <th>1</th>\n",
              "      <td>176559</td>\n",
              "      <td>Bose SoundSport Headphones</td>\n",
              "      <td>1</td>\n",
              "      <td>99.99</td>\n",
              "      <td>04/07/19 22:30</td>\n",
              "      <td>682 Chestnut St, Boston, MA 02215</td>\n",
              "    </tr>\n",
              "    <tr>\n",
              "      <th>2</th>\n",
              "      <td>176560</td>\n",
              "      <td>Google Phone</td>\n",
              "      <td>1</td>\n",
              "      <td>600.00</td>\n",
              "      <td>04/12/19 14:38</td>\n",
              "      <td>669 Spruce St, Los Angeles, CA 90001</td>\n",
              "    </tr>\n",
              "    <tr>\n",
              "      <th>3</th>\n",
              "      <td>176560</td>\n",
              "      <td>Wired Headphones</td>\n",
              "      <td>1</td>\n",
              "      <td>11.99</td>\n",
              "      <td>04/12/19 14:38</td>\n",
              "      <td>669 Spruce St, Los Angeles, CA 90001</td>\n",
              "    </tr>\n",
              "    <tr>\n",
              "      <th>4</th>\n",
              "      <td>176561</td>\n",
              "      <td>Wired Headphones</td>\n",
              "      <td>1</td>\n",
              "      <td>11.99</td>\n",
              "      <td>04/30/19 09:27</td>\n",
              "      <td>333 8th St, Los Angeles, CA 90001</td>\n",
              "    </tr>\n",
              "    <tr>\n",
              "      <th>...</th>\n",
              "      <td>...</td>\n",
              "      <td>...</td>\n",
              "      <td>...</td>\n",
              "      <td>...</td>\n",
              "      <td>...</td>\n",
              "      <td>...</td>\n",
              "    </tr>\n",
              "    <tr>\n",
              "      <th>185945</th>\n",
              "      <td>176554</td>\n",
              "      <td>Lightning Charging Cable</td>\n",
              "      <td>1</td>\n",
              "      <td>14.95</td>\n",
              "      <td>03/24/19 11:14</td>\n",
              "      <td>672 12th St, San Francisco, CA 94016</td>\n",
              "    </tr>\n",
              "    <tr>\n",
              "      <th>185946</th>\n",
              "      <td>176555</td>\n",
              "      <td>27in FHD Monitor</td>\n",
              "      <td>1</td>\n",
              "      <td>149.99</td>\n",
              "      <td>03/22/19 20:27</td>\n",
              "      <td>42 4th St, San Francisco, CA 94016</td>\n",
              "    </tr>\n",
              "    <tr>\n",
              "      <th>185947</th>\n",
              "      <td>176556</td>\n",
              "      <td>AAA Batteries (4-pack)</td>\n",
              "      <td>3</td>\n",
              "      <td>2.99</td>\n",
              "      <td>03/14/19 10:29</td>\n",
              "      <td>871 7th St, Los Angeles, CA 90001</td>\n",
              "    </tr>\n",
              "    <tr>\n",
              "      <th>185948</th>\n",
              "      <td>176557</td>\n",
              "      <td>iPhone</td>\n",
              "      <td>1</td>\n",
              "      <td>700.00</td>\n",
              "      <td>03/30/19 12:32</td>\n",
              "      <td>83 Washington St, San Francisco, CA 94016</td>\n",
              "    </tr>\n",
              "    <tr>\n",
              "      <th>185949</th>\n",
              "      <td>176557</td>\n",
              "      <td>Lightning Charging Cable</td>\n",
              "      <td>1</td>\n",
              "      <td>14.95</td>\n",
              "      <td>03/30/19 12:32</td>\n",
              "      <td>83 Washington St, San Francisco, CA 94016</td>\n",
              "    </tr>\n",
              "  </tbody>\n",
              "</table>\n",
              "<p>185950 rows × 6 columns</p>\n",
              "</div>"
            ],
            "text/plain": [
              "        Order ID  ...                           Purchase Address\n",
              "0         176558  ...               917 1st St, Dallas, TX 75001\n",
              "1         176559  ...          682 Chestnut St, Boston, MA 02215\n",
              "2         176560  ...       669 Spruce St, Los Angeles, CA 90001\n",
              "3         176560  ...       669 Spruce St, Los Angeles, CA 90001\n",
              "4         176561  ...          333 8th St, Los Angeles, CA 90001\n",
              "...          ...  ...                                        ...\n",
              "185945    176554  ...       672 12th St, San Francisco, CA 94016\n",
              "185946    176555  ...         42 4th St, San Francisco, CA 94016\n",
              "185947    176556  ...          871 7th St, Los Angeles, CA 90001\n",
              "185948    176557  ...  83 Washington St, San Francisco, CA 94016\n",
              "185949    176557  ...  83 Washington St, San Francisco, CA 94016\n",
              "\n",
              "[185950 rows x 6 columns]"
            ]
          },
          "metadata": {
            "tags": []
          },
          "execution_count": 30
        }
      ]
    },
    {
      "cell_type": "code",
      "metadata": {
        "id": "AI0j6PhmCuT9",
        "outputId": "9a8f56ee-5df0-480c-d424-84a13ea2f359",
        "colab": {
          "base_uri": "https://localhost:8080/"
        }
      },
      "source": [
        "shopping_df['Product Name'].map({'Google Phone':'Google Pixel', 'iPhone':'iPhone 6'})"
      ],
      "execution_count": 31,
      "outputs": [
        {
          "output_type": "execute_result",
          "data": {
            "text/plain": [
              "0                  NaN\n",
              "1                  NaN\n",
              "2         Google Pixel\n",
              "3                  NaN\n",
              "4                  NaN\n",
              "              ...     \n",
              "185945             NaN\n",
              "185946             NaN\n",
              "185947             NaN\n",
              "185948        iPhone 6\n",
              "185949             NaN\n",
              "Name: Product Name, Length: 185950, dtype: object"
            ]
          },
          "metadata": {
            "tags": []
          },
          "execution_count": 31
        }
      ]
    },
    {
      "cell_type": "markdown",
      "metadata": {
        "id": "S2gbNg_-qubo"
      },
      "source": [
        "### pd.Series.replace\n",
        "* `pd.Series.replace(to_replace=None, value=None, inplace=False)`\n",
        "  *   Applies the function on the values in the Series.\n",
        "  *   `to_replace` is/are the value(s) to replace. It may be a str, list, dict, Series, int etc.\n",
        "  *   The `value ` to replace any values matching `to_replace` with.\n"
      ]
    },
    {
      "cell_type": "code",
      "metadata": {
        "id": "FNYsKR0tqubp",
        "outputId": "7a362178-3663-42f7-be5e-d2daaeb1f22e",
        "colab": {
          "base_uri": "https://localhost:8080/"
        }
      },
      "source": [
        "shopping_df['Product Name'].replace({'Google Phone':'Google Pixel', 'iPhone':'iPhone 6'})"
      ],
      "execution_count": 32,
      "outputs": [
        {
          "output_type": "execute_result",
          "data": {
            "text/plain": [
              "0               USB-C Charging Cable\n",
              "1         Bose SoundSport Headphones\n",
              "2                       Google Pixel\n",
              "3                   Wired Headphones\n",
              "4                   Wired Headphones\n",
              "                     ...            \n",
              "185945      Lightning Charging Cable\n",
              "185946              27in FHD Monitor\n",
              "185947        AAA Batteries (4-pack)\n",
              "185948                      iPhone 6\n",
              "185949      Lightning Charging Cable\n",
              "Name: Product Name, Length: 185950, dtype: object"
            ]
          },
          "metadata": {
            "tags": []
          },
          "execution_count": 32
        }
      ]
    },
    {
      "cell_type": "markdown",
      "metadata": {
        "id": "ue2OekoRGi2F"
      },
      "source": [
        "**Replace can be used with dataframes too**\n"
      ]
    },
    {
      "cell_type": "code",
      "metadata": {
        "id": "R8gkPdePtL6H",
        "outputId": "5fd726ee-ec7e-408c-f03a-4b8e068c136a",
        "colab": {
          "base_uri": "https://localhost:8080/",
          "height": 606
        }
      },
      "source": [
        "shopping_df.replace(to_replace=[\"USB-C Charging Cable\", \"Lightning Charging Cable\"], value =\"Charging Cable\")"
      ],
      "execution_count": 33,
      "outputs": [
        {
          "output_type": "execute_result",
          "data": {
            "text/html": [
              "<div>\n",
              "<style scoped>\n",
              "    .dataframe tbody tr th:only-of-type {\n",
              "        vertical-align: middle;\n",
              "    }\n",
              "\n",
              "    .dataframe tbody tr th {\n",
              "        vertical-align: top;\n",
              "    }\n",
              "\n",
              "    .dataframe thead th {\n",
              "        text-align: right;\n",
              "    }\n",
              "</style>\n",
              "<table border=\"1\" class=\"dataframe\">\n",
              "  <thead>\n",
              "    <tr style=\"text-align: right;\">\n",
              "      <th></th>\n",
              "      <th>Order ID</th>\n",
              "      <th>Product Name</th>\n",
              "      <th>Quantity Ordered</th>\n",
              "      <th>Price</th>\n",
              "      <th>Order Date</th>\n",
              "      <th>Purchase Address</th>\n",
              "    </tr>\n",
              "  </thead>\n",
              "  <tbody>\n",
              "    <tr>\n",
              "      <th>0</th>\n",
              "      <td>176558</td>\n",
              "      <td>Charging Cable</td>\n",
              "      <td>2</td>\n",
              "      <td>11.95</td>\n",
              "      <td>04/19/19 08:46</td>\n",
              "      <td>917 1st St, Dallas, TX 75001</td>\n",
              "    </tr>\n",
              "    <tr>\n",
              "      <th>1</th>\n",
              "      <td>176559</td>\n",
              "      <td>Bose SoundSport Headphones</td>\n",
              "      <td>1</td>\n",
              "      <td>99.99</td>\n",
              "      <td>04/07/19 22:30</td>\n",
              "      <td>682 Chestnut St, Boston, MA 02215</td>\n",
              "    </tr>\n",
              "    <tr>\n",
              "      <th>2</th>\n",
              "      <td>176560</td>\n",
              "      <td>Google Phone</td>\n",
              "      <td>1</td>\n",
              "      <td>600.00</td>\n",
              "      <td>04/12/19 14:38</td>\n",
              "      <td>669 Spruce St, Los Angeles, CA 90001</td>\n",
              "    </tr>\n",
              "    <tr>\n",
              "      <th>3</th>\n",
              "      <td>176560</td>\n",
              "      <td>Wired Headphones</td>\n",
              "      <td>1</td>\n",
              "      <td>11.99</td>\n",
              "      <td>04/12/19 14:38</td>\n",
              "      <td>669 Spruce St, Los Angeles, CA 90001</td>\n",
              "    </tr>\n",
              "    <tr>\n",
              "      <th>4</th>\n",
              "      <td>176561</td>\n",
              "      <td>Wired Headphones</td>\n",
              "      <td>1</td>\n",
              "      <td>11.99</td>\n",
              "      <td>04/30/19 09:27</td>\n",
              "      <td>333 8th St, Los Angeles, CA 90001</td>\n",
              "    </tr>\n",
              "    <tr>\n",
              "      <th>...</th>\n",
              "      <td>...</td>\n",
              "      <td>...</td>\n",
              "      <td>...</td>\n",
              "      <td>...</td>\n",
              "      <td>...</td>\n",
              "      <td>...</td>\n",
              "    </tr>\n",
              "    <tr>\n",
              "      <th>185945</th>\n",
              "      <td>176554</td>\n",
              "      <td>Charging Cable</td>\n",
              "      <td>1</td>\n",
              "      <td>14.95</td>\n",
              "      <td>03/24/19 11:14</td>\n",
              "      <td>672 12th St, San Francisco, CA 94016</td>\n",
              "    </tr>\n",
              "    <tr>\n",
              "      <th>185946</th>\n",
              "      <td>176555</td>\n",
              "      <td>27in FHD Monitor</td>\n",
              "      <td>1</td>\n",
              "      <td>149.99</td>\n",
              "      <td>03/22/19 20:27</td>\n",
              "      <td>42 4th St, San Francisco, CA 94016</td>\n",
              "    </tr>\n",
              "    <tr>\n",
              "      <th>185947</th>\n",
              "      <td>176556</td>\n",
              "      <td>AAA Batteries (4-pack)</td>\n",
              "      <td>3</td>\n",
              "      <td>2.99</td>\n",
              "      <td>03/14/19 10:29</td>\n",
              "      <td>871 7th St, Los Angeles, CA 90001</td>\n",
              "    </tr>\n",
              "    <tr>\n",
              "      <th>185948</th>\n",
              "      <td>176557</td>\n",
              "      <td>iPhone</td>\n",
              "      <td>1</td>\n",
              "      <td>700.00</td>\n",
              "      <td>03/30/19 12:32</td>\n",
              "      <td>83 Washington St, San Francisco, CA 94016</td>\n",
              "    </tr>\n",
              "    <tr>\n",
              "      <th>185949</th>\n",
              "      <td>176557</td>\n",
              "      <td>Charging Cable</td>\n",
              "      <td>1</td>\n",
              "      <td>14.95</td>\n",
              "      <td>03/30/19 12:32</td>\n",
              "      <td>83 Washington St, San Francisco, CA 94016</td>\n",
              "    </tr>\n",
              "  </tbody>\n",
              "</table>\n",
              "<p>185950 rows × 6 columns</p>\n",
              "</div>"
            ],
            "text/plain": [
              "        Order ID  ...                           Purchase Address\n",
              "0         176558  ...               917 1st St, Dallas, TX 75001\n",
              "1         176559  ...          682 Chestnut St, Boston, MA 02215\n",
              "2         176560  ...       669 Spruce St, Los Angeles, CA 90001\n",
              "3         176560  ...       669 Spruce St, Los Angeles, CA 90001\n",
              "4         176561  ...          333 8th St, Los Angeles, CA 90001\n",
              "...          ...  ...                                        ...\n",
              "185945    176554  ...       672 12th St, San Francisco, CA 94016\n",
              "185946    176555  ...         42 4th St, San Francisco, CA 94016\n",
              "185947    176556  ...          871 7th St, Los Angeles, CA 90001\n",
              "185948    176557  ...  83 Washington St, San Francisco, CA 94016\n",
              "185949    176557  ...  83 Washington St, San Francisco, CA 94016\n",
              "\n",
              "[185950 rows x 6 columns]"
            ]
          },
          "metadata": {
            "tags": []
          },
          "execution_count": 33
        }
      ]
    },
    {
      "cell_type": "markdown",
      "metadata": {
        "id": "J9TCAmvncqyK"
      },
      "source": [
        "# Add/Delete Columns"
      ]
    },
    {
      "cell_type": "markdown",
      "metadata": {
        "id": "JTzk54BOAyAQ"
      },
      "source": [
        "**We can create a new column by assigning a value as shown below**"
      ]
    },
    {
      "cell_type": "code",
      "metadata": {
        "id": "YejuVKJrmJCi",
        "outputId": "40b18532-851e-4ad3-bc48-8aee5d28d0a6",
        "colab": {
          "base_uri": "https://localhost:8080/",
          "height": 606
        }
      },
      "source": [
        "shopping_df['Store'] = pd.Series('Amazon')\n",
        "shopping_df"
      ],
      "execution_count": 34,
      "outputs": [
        {
          "output_type": "execute_result",
          "data": {
            "text/html": [
              "<div>\n",
              "<style scoped>\n",
              "    .dataframe tbody tr th:only-of-type {\n",
              "        vertical-align: middle;\n",
              "    }\n",
              "\n",
              "    .dataframe tbody tr th {\n",
              "        vertical-align: top;\n",
              "    }\n",
              "\n",
              "    .dataframe thead th {\n",
              "        text-align: right;\n",
              "    }\n",
              "</style>\n",
              "<table border=\"1\" class=\"dataframe\">\n",
              "  <thead>\n",
              "    <tr style=\"text-align: right;\">\n",
              "      <th></th>\n",
              "      <th>Order ID</th>\n",
              "      <th>Product Name</th>\n",
              "      <th>Quantity Ordered</th>\n",
              "      <th>Price</th>\n",
              "      <th>Order Date</th>\n",
              "      <th>Purchase Address</th>\n",
              "      <th>Store</th>\n",
              "    </tr>\n",
              "  </thead>\n",
              "  <tbody>\n",
              "    <tr>\n",
              "      <th>0</th>\n",
              "      <td>176558</td>\n",
              "      <td>USB-C Charging Cable</td>\n",
              "      <td>2</td>\n",
              "      <td>11.95</td>\n",
              "      <td>04/19/19 08:46</td>\n",
              "      <td>917 1st St, Dallas, TX 75001</td>\n",
              "      <td>Amazon</td>\n",
              "    </tr>\n",
              "    <tr>\n",
              "      <th>1</th>\n",
              "      <td>176559</td>\n",
              "      <td>Bose SoundSport Headphones</td>\n",
              "      <td>1</td>\n",
              "      <td>99.99</td>\n",
              "      <td>04/07/19 22:30</td>\n",
              "      <td>682 Chestnut St, Boston, MA 02215</td>\n",
              "      <td>NaN</td>\n",
              "    </tr>\n",
              "    <tr>\n",
              "      <th>2</th>\n",
              "      <td>176560</td>\n",
              "      <td>Google Phone</td>\n",
              "      <td>1</td>\n",
              "      <td>600.00</td>\n",
              "      <td>04/12/19 14:38</td>\n",
              "      <td>669 Spruce St, Los Angeles, CA 90001</td>\n",
              "      <td>NaN</td>\n",
              "    </tr>\n",
              "    <tr>\n",
              "      <th>3</th>\n",
              "      <td>176560</td>\n",
              "      <td>Wired Headphones</td>\n",
              "      <td>1</td>\n",
              "      <td>11.99</td>\n",
              "      <td>04/12/19 14:38</td>\n",
              "      <td>669 Spruce St, Los Angeles, CA 90001</td>\n",
              "      <td>NaN</td>\n",
              "    </tr>\n",
              "    <tr>\n",
              "      <th>4</th>\n",
              "      <td>176561</td>\n",
              "      <td>Wired Headphones</td>\n",
              "      <td>1</td>\n",
              "      <td>11.99</td>\n",
              "      <td>04/30/19 09:27</td>\n",
              "      <td>333 8th St, Los Angeles, CA 90001</td>\n",
              "      <td>NaN</td>\n",
              "    </tr>\n",
              "    <tr>\n",
              "      <th>...</th>\n",
              "      <td>...</td>\n",
              "      <td>...</td>\n",
              "      <td>...</td>\n",
              "      <td>...</td>\n",
              "      <td>...</td>\n",
              "      <td>...</td>\n",
              "      <td>...</td>\n",
              "    </tr>\n",
              "    <tr>\n",
              "      <th>185945</th>\n",
              "      <td>176554</td>\n",
              "      <td>Lightning Charging Cable</td>\n",
              "      <td>1</td>\n",
              "      <td>14.95</td>\n",
              "      <td>03/24/19 11:14</td>\n",
              "      <td>672 12th St, San Francisco, CA 94016</td>\n",
              "      <td>NaN</td>\n",
              "    </tr>\n",
              "    <tr>\n",
              "      <th>185946</th>\n",
              "      <td>176555</td>\n",
              "      <td>27in FHD Monitor</td>\n",
              "      <td>1</td>\n",
              "      <td>149.99</td>\n",
              "      <td>03/22/19 20:27</td>\n",
              "      <td>42 4th St, San Francisco, CA 94016</td>\n",
              "      <td>NaN</td>\n",
              "    </tr>\n",
              "    <tr>\n",
              "      <th>185947</th>\n",
              "      <td>176556</td>\n",
              "      <td>AAA Batteries (4-pack)</td>\n",
              "      <td>3</td>\n",
              "      <td>2.99</td>\n",
              "      <td>03/14/19 10:29</td>\n",
              "      <td>871 7th St, Los Angeles, CA 90001</td>\n",
              "      <td>NaN</td>\n",
              "    </tr>\n",
              "    <tr>\n",
              "      <th>185948</th>\n",
              "      <td>176557</td>\n",
              "      <td>iPhone</td>\n",
              "      <td>1</td>\n",
              "      <td>700.00</td>\n",
              "      <td>03/30/19 12:32</td>\n",
              "      <td>83 Washington St, San Francisco, CA 94016</td>\n",
              "      <td>NaN</td>\n",
              "    </tr>\n",
              "    <tr>\n",
              "      <th>185949</th>\n",
              "      <td>176557</td>\n",
              "      <td>Lightning Charging Cable</td>\n",
              "      <td>1</td>\n",
              "      <td>14.95</td>\n",
              "      <td>03/30/19 12:32</td>\n",
              "      <td>83 Washington St, San Francisco, CA 94016</td>\n",
              "      <td>NaN</td>\n",
              "    </tr>\n",
              "  </tbody>\n",
              "</table>\n",
              "<p>185950 rows × 7 columns</p>\n",
              "</div>"
            ],
            "text/plain": [
              "        Order ID  ...   Store\n",
              "0         176558  ...  Amazon\n",
              "1         176559  ...     NaN\n",
              "2         176560  ...     NaN\n",
              "3         176560  ...     NaN\n",
              "4         176561  ...     NaN\n",
              "...          ...  ...     ...\n",
              "185945    176554  ...     NaN\n",
              "185946    176555  ...     NaN\n",
              "185947    176556  ...     NaN\n",
              "185948    176557  ...     NaN\n",
              "185949    176557  ...     NaN\n",
              "\n",
              "[185950 rows x 7 columns]"
            ]
          },
          "metadata": {
            "tags": []
          },
          "execution_count": 34
        }
      ]
    },
    {
      "cell_type": "code",
      "metadata": {
        "id": "oy0HhO8TA2bS",
        "outputId": "e5e8df90-16c4-4270-8bf4-d5e43def4466",
        "colab": {
          "base_uri": "https://localhost:8080/",
          "height": 173
        }
      },
      "source": [
        "people_df['Full Data'] = people_df['full_name'] + ' ' + people_df['email']\n",
        "people_df"
      ],
      "execution_count": 36,
      "outputs": [
        {
          "output_type": "execute_result",
          "data": {
            "text/html": [
              "<div>\n",
              "<style scoped>\n",
              "    .dataframe tbody tr th:only-of-type {\n",
              "        vertical-align: middle;\n",
              "    }\n",
              "\n",
              "    .dataframe tbody tr th {\n",
              "        vertical-align: top;\n",
              "    }\n",
              "\n",
              "    .dataframe thead th {\n",
              "        text-align: right;\n",
              "    }\n",
              "</style>\n",
              "<table border=\"1\" class=\"dataframe\">\n",
              "  <thead>\n",
              "    <tr style=\"text-align: right;\">\n",
              "      <th></th>\n",
              "      <th>full_name</th>\n",
              "      <th>email</th>\n",
              "      <th>Full Data</th>\n",
              "    </tr>\n",
              "  </thead>\n",
              "  <tbody>\n",
              "    <tr>\n",
              "      <th>0</th>\n",
              "      <td>Jack Smith</td>\n",
              "      <td>JackSmith@gmail.com</td>\n",
              "      <td>Jack Smith JackSmith@gmail.com</td>\n",
              "    </tr>\n",
              "    <tr>\n",
              "      <th>1</th>\n",
              "      <td>Jane Lodge</td>\n",
              "      <td>JaneLodge@email.com</td>\n",
              "      <td>Jane Lodge JaneLodge@email.com</td>\n",
              "    </tr>\n",
              "    <tr>\n",
              "      <th>2</th>\n",
              "      <td>John Doe</td>\n",
              "      <td>JohnDoe@email.com</td>\n",
              "      <td>John Doe JohnDoe@email.com</td>\n",
              "    </tr>\n",
              "    <tr>\n",
              "      <th>3</th>\n",
              "      <td>Kristen Carol</td>\n",
              "      <td>KristenC@email.com</td>\n",
              "      <td>Kristen Carol KristenC@email.com</td>\n",
              "    </tr>\n",
              "  </tbody>\n",
              "</table>\n",
              "</div>"
            ],
            "text/plain": [
              "       full_name                email                         Full Data\n",
              "0     Jack Smith  JackSmith@gmail.com    Jack Smith JackSmith@gmail.com\n",
              "1     Jane Lodge  JaneLodge@email.com    Jane Lodge JaneLodge@email.com\n",
              "2       John Doe    JohnDoe@email.com        John Doe JohnDoe@email.com\n",
              "3  Kristen Carol   KristenC@email.com  Kristen Carol KristenC@email.com"
            ]
          },
          "metadata": {
            "tags": []
          },
          "execution_count": 36
        }
      ]
    },
    {
      "cell_type": "markdown",
      "metadata": {
        "id": "i7uVMAh6HEu9"
      },
      "source": [
        "### Splitting columns\n"
      ]
    },
    {
      "cell_type": "code",
      "metadata": {
        "id": "_Tjy1g5iI19U"
      },
      "source": [
        "people = {\n",
        "    \"full_name\": [\"Jack Smith\", 'Jane Lodge', 'John Doe', 'Kristen Carol'], \n",
        "    \"email\": [\"JackSmith@gmail.com\", 'JaneLodge@email.com', 'JohnDoe@email.com', 'KristenC@email.com']\n",
        "}"
      ],
      "execution_count": 37,
      "outputs": []
    },
    {
      "cell_type": "code",
      "metadata": {
        "id": "kY5v2oWVI19V",
        "outputId": "10f4ac27-3b91-4a04-9571-a9c04841813b",
        "colab": {
          "base_uri": "https://localhost:8080/",
          "height": 173
        }
      },
      "source": [
        "people_df = pd.DataFrame(people)\n",
        "people_df"
      ],
      "execution_count": 38,
      "outputs": [
        {
          "output_type": "execute_result",
          "data": {
            "text/html": [
              "<div>\n",
              "<style scoped>\n",
              "    .dataframe tbody tr th:only-of-type {\n",
              "        vertical-align: middle;\n",
              "    }\n",
              "\n",
              "    .dataframe tbody tr th {\n",
              "        vertical-align: top;\n",
              "    }\n",
              "\n",
              "    .dataframe thead th {\n",
              "        text-align: right;\n",
              "    }\n",
              "</style>\n",
              "<table border=\"1\" class=\"dataframe\">\n",
              "  <thead>\n",
              "    <tr style=\"text-align: right;\">\n",
              "      <th></th>\n",
              "      <th>full_name</th>\n",
              "      <th>email</th>\n",
              "    </tr>\n",
              "  </thead>\n",
              "  <tbody>\n",
              "    <tr>\n",
              "      <th>0</th>\n",
              "      <td>Jack Smith</td>\n",
              "      <td>JackSmith@gmail.com</td>\n",
              "    </tr>\n",
              "    <tr>\n",
              "      <th>1</th>\n",
              "      <td>Jane Lodge</td>\n",
              "      <td>JaneLodge@email.com</td>\n",
              "    </tr>\n",
              "    <tr>\n",
              "      <th>2</th>\n",
              "      <td>John Doe</td>\n",
              "      <td>JohnDoe@email.com</td>\n",
              "    </tr>\n",
              "    <tr>\n",
              "      <th>3</th>\n",
              "      <td>Kristen Carol</td>\n",
              "      <td>KristenC@email.com</td>\n",
              "    </tr>\n",
              "  </tbody>\n",
              "</table>\n",
              "</div>"
            ],
            "text/plain": [
              "       full_name                email\n",
              "0     Jack Smith  JackSmith@gmail.com\n",
              "1     Jane Lodge  JaneLodge@email.com\n",
              "2       John Doe    JohnDoe@email.com\n",
              "3  Kristen Carol   KristenC@email.com"
            ]
          },
          "metadata": {
            "tags": []
          },
          "execution_count": 38
        }
      ]
    },
    {
      "cell_type": "code",
      "metadata": {
        "id": "4lPWlmS6JJRI",
        "outputId": "25dc50c5-aaa6-4080-929b-c77cd211a794",
        "colab": {
          "base_uri": "https://localhost:8080/"
        }
      },
      "source": [
        "people_df['full_name'].str.split(' ')"
      ],
      "execution_count": 39,
      "outputs": [
        {
          "output_type": "execute_result",
          "data": {
            "text/plain": [
              "0       [Jack, Smith]\n",
              "1       [Jane, Lodge]\n",
              "2         [John, Doe]\n",
              "3    [Kristen, Carol]\n",
              "Name: full_name, dtype: object"
            ]
          },
          "metadata": {
            "tags": []
          },
          "execution_count": 39
        }
      ]
    },
    {
      "cell_type": "code",
      "metadata": {
        "id": "Pa0kug9LJMRZ",
        "outputId": "443ae415-5fc6-4e7f-abc7-6cbc162408fe",
        "colab": {
          "base_uri": "https://localhost:8080/",
          "height": 173
        }
      },
      "source": [
        "people_df['full_name'].str.split(' ', expand=True)"
      ],
      "execution_count": 40,
      "outputs": [
        {
          "output_type": "execute_result",
          "data": {
            "text/html": [
              "<div>\n",
              "<style scoped>\n",
              "    .dataframe tbody tr th:only-of-type {\n",
              "        vertical-align: middle;\n",
              "    }\n",
              "\n",
              "    .dataframe tbody tr th {\n",
              "        vertical-align: top;\n",
              "    }\n",
              "\n",
              "    .dataframe thead th {\n",
              "        text-align: right;\n",
              "    }\n",
              "</style>\n",
              "<table border=\"1\" class=\"dataframe\">\n",
              "  <thead>\n",
              "    <tr style=\"text-align: right;\">\n",
              "      <th></th>\n",
              "      <th>0</th>\n",
              "      <th>1</th>\n",
              "    </tr>\n",
              "  </thead>\n",
              "  <tbody>\n",
              "    <tr>\n",
              "      <th>0</th>\n",
              "      <td>Jack</td>\n",
              "      <td>Smith</td>\n",
              "    </tr>\n",
              "    <tr>\n",
              "      <th>1</th>\n",
              "      <td>Jane</td>\n",
              "      <td>Lodge</td>\n",
              "    </tr>\n",
              "    <tr>\n",
              "      <th>2</th>\n",
              "      <td>John</td>\n",
              "      <td>Doe</td>\n",
              "    </tr>\n",
              "    <tr>\n",
              "      <th>3</th>\n",
              "      <td>Kristen</td>\n",
              "      <td>Carol</td>\n",
              "    </tr>\n",
              "  </tbody>\n",
              "</table>\n",
              "</div>"
            ],
            "text/plain": [
              "         0      1\n",
              "0     Jack  Smith\n",
              "1     Jane  Lodge\n",
              "2     John    Doe\n",
              "3  Kristen  Carol"
            ]
          },
          "metadata": {
            "tags": []
          },
          "execution_count": 40
        }
      ]
    },
    {
      "cell_type": "code",
      "metadata": {
        "id": "CFenfhKPJT1G",
        "outputId": "d3fe7aea-2278-4efe-c65e-f221bb7d6182",
        "colab": {
          "base_uri": "https://localhost:8080/",
          "height": 173
        }
      },
      "source": [
        "people_df[['first', 'last']] = people_df['full_name'].str.split(' ', expand=True)\n",
        "people_df"
      ],
      "execution_count": 41,
      "outputs": [
        {
          "output_type": "execute_result",
          "data": {
            "text/html": [
              "<div>\n",
              "<style scoped>\n",
              "    .dataframe tbody tr th:only-of-type {\n",
              "        vertical-align: middle;\n",
              "    }\n",
              "\n",
              "    .dataframe tbody tr th {\n",
              "        vertical-align: top;\n",
              "    }\n",
              "\n",
              "    .dataframe thead th {\n",
              "        text-align: right;\n",
              "    }\n",
              "</style>\n",
              "<table border=\"1\" class=\"dataframe\">\n",
              "  <thead>\n",
              "    <tr style=\"text-align: right;\">\n",
              "      <th></th>\n",
              "      <th>full_name</th>\n",
              "      <th>email</th>\n",
              "      <th>first</th>\n",
              "      <th>last</th>\n",
              "    </tr>\n",
              "  </thead>\n",
              "  <tbody>\n",
              "    <tr>\n",
              "      <th>0</th>\n",
              "      <td>Jack Smith</td>\n",
              "      <td>JackSmith@gmail.com</td>\n",
              "      <td>Jack</td>\n",
              "      <td>Smith</td>\n",
              "    </tr>\n",
              "    <tr>\n",
              "      <th>1</th>\n",
              "      <td>Jane Lodge</td>\n",
              "      <td>JaneLodge@email.com</td>\n",
              "      <td>Jane</td>\n",
              "      <td>Lodge</td>\n",
              "    </tr>\n",
              "    <tr>\n",
              "      <th>2</th>\n",
              "      <td>John Doe</td>\n",
              "      <td>JohnDoe@email.com</td>\n",
              "      <td>John</td>\n",
              "      <td>Doe</td>\n",
              "    </tr>\n",
              "    <tr>\n",
              "      <th>3</th>\n",
              "      <td>Kristen Carol</td>\n",
              "      <td>KristenC@email.com</td>\n",
              "      <td>Kristen</td>\n",
              "      <td>Carol</td>\n",
              "    </tr>\n",
              "  </tbody>\n",
              "</table>\n",
              "</div>"
            ],
            "text/plain": [
              "       full_name                email    first   last\n",
              "0     Jack Smith  JackSmith@gmail.com     Jack  Smith\n",
              "1     Jane Lodge  JaneLodge@email.com     Jane  Lodge\n",
              "2       John Doe    JohnDoe@email.com     John    Doe\n",
              "3  Kristen Carol   KristenC@email.com  Kristen  Carol"
            ]
          },
          "metadata": {
            "tags": []
          },
          "execution_count": 41
        }
      ]
    },
    {
      "cell_type": "markdown",
      "metadata": {
        "id": "J4xwnFPqHLfd"
      },
      "source": [
        "### pd.concat\n",
        "* `pd.concat(objs, axis=0, ignore_index=False, keys=None)`\n",
        "  * Concatenates pandas objects along a particular axis\n",
        "  *   `objs` is a sequence or mapping of Series or DataFrame objects\n",
        "  *  The `axis` to concatenate along.\n",
        "  * If `ignore_index` is True, then it does not use the index values along the concatenation axis. The resulting axis will be labeled 0, …, n - 1. \n"
      ]
    },
    {
      "cell_type": "code",
      "metadata": {
        "id": "yINx6xHTWzTI",
        "outputId": "3c0217f8-83ca-4208-bedd-58b070501626",
        "colab": {
          "base_uri": "https://localhost:8080/",
          "height": 173
        }
      },
      "source": [
        "people_df"
      ],
      "execution_count": 42,
      "outputs": [
        {
          "output_type": "execute_result",
          "data": {
            "text/html": [
              "<div>\n",
              "<style scoped>\n",
              "    .dataframe tbody tr th:only-of-type {\n",
              "        vertical-align: middle;\n",
              "    }\n",
              "\n",
              "    .dataframe tbody tr th {\n",
              "        vertical-align: top;\n",
              "    }\n",
              "\n",
              "    .dataframe thead th {\n",
              "        text-align: right;\n",
              "    }\n",
              "</style>\n",
              "<table border=\"1\" class=\"dataframe\">\n",
              "  <thead>\n",
              "    <tr style=\"text-align: right;\">\n",
              "      <th></th>\n",
              "      <th>full_name</th>\n",
              "      <th>email</th>\n",
              "      <th>first</th>\n",
              "      <th>last</th>\n",
              "    </tr>\n",
              "  </thead>\n",
              "  <tbody>\n",
              "    <tr>\n",
              "      <th>0</th>\n",
              "      <td>Jack Smith</td>\n",
              "      <td>JackSmith@gmail.com</td>\n",
              "      <td>Jack</td>\n",
              "      <td>Smith</td>\n",
              "    </tr>\n",
              "    <tr>\n",
              "      <th>1</th>\n",
              "      <td>Jane Lodge</td>\n",
              "      <td>JaneLodge@email.com</td>\n",
              "      <td>Jane</td>\n",
              "      <td>Lodge</td>\n",
              "    </tr>\n",
              "    <tr>\n",
              "      <th>2</th>\n",
              "      <td>John Doe</td>\n",
              "      <td>JohnDoe@email.com</td>\n",
              "      <td>John</td>\n",
              "      <td>Doe</td>\n",
              "    </tr>\n",
              "    <tr>\n",
              "      <th>3</th>\n",
              "      <td>Kristen Carol</td>\n",
              "      <td>KristenC@email.com</td>\n",
              "      <td>Kristen</td>\n",
              "      <td>Carol</td>\n",
              "    </tr>\n",
              "  </tbody>\n",
              "</table>\n",
              "</div>"
            ],
            "text/plain": [
              "       full_name                email    first   last\n",
              "0     Jack Smith  JackSmith@gmail.com     Jack  Smith\n",
              "1     Jane Lodge  JaneLodge@email.com     Jane  Lodge\n",
              "2       John Doe    JohnDoe@email.com     John    Doe\n",
              "3  Kristen Carol   KristenC@email.com  Kristen  Carol"
            ]
          },
          "metadata": {
            "tags": []
          },
          "execution_count": 42
        }
      ]
    },
    {
      "cell_type": "code",
      "metadata": {
        "id": "YwemYY3lW5nG"
      },
      "source": [
        "age_and_hobbies = {\n",
        "    \"age\": [35, 17, 21, 45], \n",
        "    \"hobbies\": [\"painting\", 'football', 'running', 'fishing']\n",
        "}\n",
        "age_and_hobbies_df = pd.DataFrame(age_and_hobbies)"
      ],
      "execution_count": 43,
      "outputs": []
    },
    {
      "cell_type": "code",
      "metadata": {
        "id": "0Xnow329HLfd",
        "outputId": "aef963d3-0070-41a6-903d-044d9bed840c",
        "colab": {
          "base_uri": "https://localhost:8080/",
          "height": 173
        }
      },
      "source": [
        "pd.concat([people_df, age_and_hobbies_df], axis=1)"
      ],
      "execution_count": 44,
      "outputs": [
        {
          "output_type": "execute_result",
          "data": {
            "text/html": [
              "<div>\n",
              "<style scoped>\n",
              "    .dataframe tbody tr th:only-of-type {\n",
              "        vertical-align: middle;\n",
              "    }\n",
              "\n",
              "    .dataframe tbody tr th {\n",
              "        vertical-align: top;\n",
              "    }\n",
              "\n",
              "    .dataframe thead th {\n",
              "        text-align: right;\n",
              "    }\n",
              "</style>\n",
              "<table border=\"1\" class=\"dataframe\">\n",
              "  <thead>\n",
              "    <tr style=\"text-align: right;\">\n",
              "      <th></th>\n",
              "      <th>full_name</th>\n",
              "      <th>email</th>\n",
              "      <th>first</th>\n",
              "      <th>last</th>\n",
              "      <th>age</th>\n",
              "      <th>hobbies</th>\n",
              "    </tr>\n",
              "  </thead>\n",
              "  <tbody>\n",
              "    <tr>\n",
              "      <th>0</th>\n",
              "      <td>Jack Smith</td>\n",
              "      <td>JackSmith@gmail.com</td>\n",
              "      <td>Jack</td>\n",
              "      <td>Smith</td>\n",
              "      <td>35</td>\n",
              "      <td>painting</td>\n",
              "    </tr>\n",
              "    <tr>\n",
              "      <th>1</th>\n",
              "      <td>Jane Lodge</td>\n",
              "      <td>JaneLodge@email.com</td>\n",
              "      <td>Jane</td>\n",
              "      <td>Lodge</td>\n",
              "      <td>17</td>\n",
              "      <td>football</td>\n",
              "    </tr>\n",
              "    <tr>\n",
              "      <th>2</th>\n",
              "      <td>John Doe</td>\n",
              "      <td>JohnDoe@email.com</td>\n",
              "      <td>John</td>\n",
              "      <td>Doe</td>\n",
              "      <td>21</td>\n",
              "      <td>running</td>\n",
              "    </tr>\n",
              "    <tr>\n",
              "      <th>3</th>\n",
              "      <td>Kristen Carol</td>\n",
              "      <td>KristenC@email.com</td>\n",
              "      <td>Kristen</td>\n",
              "      <td>Carol</td>\n",
              "      <td>45</td>\n",
              "      <td>fishing</td>\n",
              "    </tr>\n",
              "  </tbody>\n",
              "</table>\n",
              "</div>"
            ],
            "text/plain": [
              "       full_name                email    first   last  age   hobbies\n",
              "0     Jack Smith  JackSmith@gmail.com     Jack  Smith   35  painting\n",
              "1     Jane Lodge  JaneLodge@email.com     Jane  Lodge   17  football\n",
              "2       John Doe    JohnDoe@email.com     John    Doe   21   running\n",
              "3  Kristen Carol   KristenC@email.com  Kristen  Carol   45   fishing"
            ]
          },
          "metadata": {
            "tags": []
          },
          "execution_count": 44
        }
      ]
    },
    {
      "cell_type": "code",
      "metadata": {
        "id": "1Zkd10jtuYOA",
        "outputId": "36b89ac6-0ed0-49b3-eb5b-c338f4628d48",
        "colab": {
          "base_uri": "https://localhost:8080/",
          "height": 173
        }
      },
      "source": [
        "pd.concat([people_df, age_and_hobbies_df], axis=1, ignore_index=True)"
      ],
      "execution_count": 45,
      "outputs": [
        {
          "output_type": "execute_result",
          "data": {
            "text/html": [
              "<div>\n",
              "<style scoped>\n",
              "    .dataframe tbody tr th:only-of-type {\n",
              "        vertical-align: middle;\n",
              "    }\n",
              "\n",
              "    .dataframe tbody tr th {\n",
              "        vertical-align: top;\n",
              "    }\n",
              "\n",
              "    .dataframe thead th {\n",
              "        text-align: right;\n",
              "    }\n",
              "</style>\n",
              "<table border=\"1\" class=\"dataframe\">\n",
              "  <thead>\n",
              "    <tr style=\"text-align: right;\">\n",
              "      <th></th>\n",
              "      <th>0</th>\n",
              "      <th>1</th>\n",
              "      <th>2</th>\n",
              "      <th>3</th>\n",
              "      <th>4</th>\n",
              "      <th>5</th>\n",
              "    </tr>\n",
              "  </thead>\n",
              "  <tbody>\n",
              "    <tr>\n",
              "      <th>0</th>\n",
              "      <td>Jack Smith</td>\n",
              "      <td>JackSmith@gmail.com</td>\n",
              "      <td>Jack</td>\n",
              "      <td>Smith</td>\n",
              "      <td>35</td>\n",
              "      <td>painting</td>\n",
              "    </tr>\n",
              "    <tr>\n",
              "      <th>1</th>\n",
              "      <td>Jane Lodge</td>\n",
              "      <td>JaneLodge@email.com</td>\n",
              "      <td>Jane</td>\n",
              "      <td>Lodge</td>\n",
              "      <td>17</td>\n",
              "      <td>football</td>\n",
              "    </tr>\n",
              "    <tr>\n",
              "      <th>2</th>\n",
              "      <td>John Doe</td>\n",
              "      <td>JohnDoe@email.com</td>\n",
              "      <td>John</td>\n",
              "      <td>Doe</td>\n",
              "      <td>21</td>\n",
              "      <td>running</td>\n",
              "    </tr>\n",
              "    <tr>\n",
              "      <th>3</th>\n",
              "      <td>Kristen Carol</td>\n",
              "      <td>KristenC@email.com</td>\n",
              "      <td>Kristen</td>\n",
              "      <td>Carol</td>\n",
              "      <td>45</td>\n",
              "      <td>fishing</td>\n",
              "    </tr>\n",
              "  </tbody>\n",
              "</table>\n",
              "</div>"
            ],
            "text/plain": [
              "               0                    1        2      3   4         5\n",
              "0     Jack Smith  JackSmith@gmail.com     Jack  Smith  35  painting\n",
              "1     Jane Lodge  JaneLodge@email.com     Jane  Lodge  17  football\n",
              "2       John Doe    JohnDoe@email.com     John    Doe  21   running\n",
              "3  Kristen Carol   KristenC@email.com  Kristen  Carol  45   fishing"
            ]
          },
          "metadata": {
            "tags": []
          },
          "execution_count": 45
        }
      ]
    },
    {
      "cell_type": "code",
      "metadata": {
        "id": "7-ZxDuvzHLfe"
      },
      "source": [
        "name = np.array(['Alexis', 'Jonathan'])\n",
        "gender = np.array(['Female', 'Male'])\n",
        "name_series = pd.Series(name)\n",
        "gender_series = pd.Series(gender)"
      ],
      "execution_count": 46,
      "outputs": []
    },
    {
      "cell_type": "code",
      "metadata": {
        "id": "teLaMHNYHDUY",
        "outputId": "d27fb3ff-d28d-43a5-ede6-e26b04cc1dba",
        "colab": {
          "base_uri": "https://localhost:8080/",
          "height": 111
        }
      },
      "source": [
        "user_df = pd.concat([name_series, gender_series], axis=1)\n",
        "user_df"
      ],
      "execution_count": 47,
      "outputs": [
        {
          "output_type": "execute_result",
          "data": {
            "text/html": [
              "<div>\n",
              "<style scoped>\n",
              "    .dataframe tbody tr th:only-of-type {\n",
              "        vertical-align: middle;\n",
              "    }\n",
              "\n",
              "    .dataframe tbody tr th {\n",
              "        vertical-align: top;\n",
              "    }\n",
              "\n",
              "    .dataframe thead th {\n",
              "        text-align: right;\n",
              "    }\n",
              "</style>\n",
              "<table border=\"1\" class=\"dataframe\">\n",
              "  <thead>\n",
              "    <tr style=\"text-align: right;\">\n",
              "      <th></th>\n",
              "      <th>0</th>\n",
              "      <th>1</th>\n",
              "    </tr>\n",
              "  </thead>\n",
              "  <tbody>\n",
              "    <tr>\n",
              "      <th>0</th>\n",
              "      <td>Alexis</td>\n",
              "      <td>Female</td>\n",
              "    </tr>\n",
              "    <tr>\n",
              "      <th>1</th>\n",
              "      <td>Jonathan</td>\n",
              "      <td>Male</td>\n",
              "    </tr>\n",
              "  </tbody>\n",
              "</table>\n",
              "</div>"
            ],
            "text/plain": [
              "          0       1\n",
              "0    Alexis  Female\n",
              "1  Jonathan    Male"
            ]
          },
          "metadata": {
            "tags": []
          },
          "execution_count": 47
        }
      ]
    },
    {
      "cell_type": "markdown",
      "metadata": {
        "id": "LlexvdASG_lD"
      },
      "source": [
        "**You can label the index keys you create with the names option.**"
      ]
    },
    {
      "cell_type": "code",
      "metadata": {
        "id": "E87VhV9yHE-F",
        "outputId": "7e65c9a2-1edd-4e2c-81b1-d775ab8a917a",
        "colab": {
          "base_uri": "https://localhost:8080/",
          "height": 111
        }
      },
      "source": [
        "user_df = pd.concat([name_series, gender_series], axis=1, keys=['name', 'gender'])\n",
        "user_df"
      ],
      "execution_count": 48,
      "outputs": [
        {
          "output_type": "execute_result",
          "data": {
            "text/html": [
              "<div>\n",
              "<style scoped>\n",
              "    .dataframe tbody tr th:only-of-type {\n",
              "        vertical-align: middle;\n",
              "    }\n",
              "\n",
              "    .dataframe tbody tr th {\n",
              "        vertical-align: top;\n",
              "    }\n",
              "\n",
              "    .dataframe thead th {\n",
              "        text-align: right;\n",
              "    }\n",
              "</style>\n",
              "<table border=\"1\" class=\"dataframe\">\n",
              "  <thead>\n",
              "    <tr style=\"text-align: right;\">\n",
              "      <th></th>\n",
              "      <th>name</th>\n",
              "      <th>gender</th>\n",
              "    </tr>\n",
              "  </thead>\n",
              "  <tbody>\n",
              "    <tr>\n",
              "      <th>0</th>\n",
              "      <td>Alexis</td>\n",
              "      <td>Female</td>\n",
              "    </tr>\n",
              "    <tr>\n",
              "      <th>1</th>\n",
              "      <td>Jonathan</td>\n",
              "      <td>Male</td>\n",
              "    </tr>\n",
              "  </tbody>\n",
              "</table>\n",
              "</div>"
            ],
            "text/plain": [
              "       name  gender\n",
              "0    Alexis  Female\n",
              "1  Jonathan    Male"
            ]
          },
          "metadata": {
            "tags": []
          },
          "execution_count": 48
        }
      ]
    },
    {
      "cell_type": "markdown",
      "metadata": {
        "id": "h7RKjsivHOyx"
      },
      "source": [
        "### pd.DataFrame.drop\n",
        "* `pd.DataFrame.drop(labels=None, axis=0, index=None, columns=None, inplace=False)`\n",
        "  * `labels` is the index or column labels to drop.\n",
        "  *  `axis` specifies the axis to drop the labels from. \n",
        "  * `index` is an alternative to specifying the axis (labels, axis=0 is equivalent to index=labels)\n",
        "  * `columns` is an alternative to specifying the axis (labels, axis=1 is equivalent to columns=labels).\n"
      ]
    },
    {
      "cell_type": "code",
      "metadata": {
        "id": "J7yYN20gLXG6",
        "outputId": "847422fe-23ee-4839-9e69-28980b4bea81",
        "colab": {
          "base_uri": "https://localhost:8080/",
          "height": 419
        }
      },
      "source": [
        "shopping_df.drop(columns=['Quantity Ordered', 'Purchase Address'])"
      ],
      "execution_count": 49,
      "outputs": [
        {
          "output_type": "execute_result",
          "data": {
            "text/html": [
              "<div>\n",
              "<style scoped>\n",
              "    .dataframe tbody tr th:only-of-type {\n",
              "        vertical-align: middle;\n",
              "    }\n",
              "\n",
              "    .dataframe tbody tr th {\n",
              "        vertical-align: top;\n",
              "    }\n",
              "\n",
              "    .dataframe thead th {\n",
              "        text-align: right;\n",
              "    }\n",
              "</style>\n",
              "<table border=\"1\" class=\"dataframe\">\n",
              "  <thead>\n",
              "    <tr style=\"text-align: right;\">\n",
              "      <th></th>\n",
              "      <th>Order ID</th>\n",
              "      <th>Product Name</th>\n",
              "      <th>Price</th>\n",
              "      <th>Order Date</th>\n",
              "      <th>Store</th>\n",
              "    </tr>\n",
              "  </thead>\n",
              "  <tbody>\n",
              "    <tr>\n",
              "      <th>0</th>\n",
              "      <td>176558</td>\n",
              "      <td>USB-C Charging Cable</td>\n",
              "      <td>11.95</td>\n",
              "      <td>04/19/19 08:46</td>\n",
              "      <td>Amazon</td>\n",
              "    </tr>\n",
              "    <tr>\n",
              "      <th>1</th>\n",
              "      <td>176559</td>\n",
              "      <td>Bose SoundSport Headphones</td>\n",
              "      <td>99.99</td>\n",
              "      <td>04/07/19 22:30</td>\n",
              "      <td>NaN</td>\n",
              "    </tr>\n",
              "    <tr>\n",
              "      <th>2</th>\n",
              "      <td>176560</td>\n",
              "      <td>Google Phone</td>\n",
              "      <td>600.00</td>\n",
              "      <td>04/12/19 14:38</td>\n",
              "      <td>NaN</td>\n",
              "    </tr>\n",
              "    <tr>\n",
              "      <th>3</th>\n",
              "      <td>176560</td>\n",
              "      <td>Wired Headphones</td>\n",
              "      <td>11.99</td>\n",
              "      <td>04/12/19 14:38</td>\n",
              "      <td>NaN</td>\n",
              "    </tr>\n",
              "    <tr>\n",
              "      <th>4</th>\n",
              "      <td>176561</td>\n",
              "      <td>Wired Headphones</td>\n",
              "      <td>11.99</td>\n",
              "      <td>04/30/19 09:27</td>\n",
              "      <td>NaN</td>\n",
              "    </tr>\n",
              "    <tr>\n",
              "      <th>...</th>\n",
              "      <td>...</td>\n",
              "      <td>...</td>\n",
              "      <td>...</td>\n",
              "      <td>...</td>\n",
              "      <td>...</td>\n",
              "    </tr>\n",
              "    <tr>\n",
              "      <th>185945</th>\n",
              "      <td>176554</td>\n",
              "      <td>Lightning Charging Cable</td>\n",
              "      <td>14.95</td>\n",
              "      <td>03/24/19 11:14</td>\n",
              "      <td>NaN</td>\n",
              "    </tr>\n",
              "    <tr>\n",
              "      <th>185946</th>\n",
              "      <td>176555</td>\n",
              "      <td>27in FHD Monitor</td>\n",
              "      <td>149.99</td>\n",
              "      <td>03/22/19 20:27</td>\n",
              "      <td>NaN</td>\n",
              "    </tr>\n",
              "    <tr>\n",
              "      <th>185947</th>\n",
              "      <td>176556</td>\n",
              "      <td>AAA Batteries (4-pack)</td>\n",
              "      <td>2.99</td>\n",
              "      <td>03/14/19 10:29</td>\n",
              "      <td>NaN</td>\n",
              "    </tr>\n",
              "    <tr>\n",
              "      <th>185948</th>\n",
              "      <td>176557</td>\n",
              "      <td>iPhone</td>\n",
              "      <td>700.00</td>\n",
              "      <td>03/30/19 12:32</td>\n",
              "      <td>NaN</td>\n",
              "    </tr>\n",
              "    <tr>\n",
              "      <th>185949</th>\n",
              "      <td>176557</td>\n",
              "      <td>Lightning Charging Cable</td>\n",
              "      <td>14.95</td>\n",
              "      <td>03/30/19 12:32</td>\n",
              "      <td>NaN</td>\n",
              "    </tr>\n",
              "  </tbody>\n",
              "</table>\n",
              "<p>185950 rows × 5 columns</p>\n",
              "</div>"
            ],
            "text/plain": [
              "        Order ID                Product Name   Price      Order Date   Store\n",
              "0         176558        USB-C Charging Cable   11.95  04/19/19 08:46  Amazon\n",
              "1         176559  Bose SoundSport Headphones   99.99  04/07/19 22:30     NaN\n",
              "2         176560                Google Phone  600.00  04/12/19 14:38     NaN\n",
              "3         176560            Wired Headphones   11.99  04/12/19 14:38     NaN\n",
              "4         176561            Wired Headphones   11.99  04/30/19 09:27     NaN\n",
              "...          ...                         ...     ...             ...     ...\n",
              "185945    176554    Lightning Charging Cable   14.95  03/24/19 11:14     NaN\n",
              "185946    176555            27in FHD Monitor  149.99  03/22/19 20:27     NaN\n",
              "185947    176556      AAA Batteries (4-pack)    2.99  03/14/19 10:29     NaN\n",
              "185948    176557                      iPhone  700.00  03/30/19 12:32     NaN\n",
              "185949    176557    Lightning Charging Cable   14.95  03/30/19 12:32     NaN\n",
              "\n",
              "[185950 rows x 5 columns]"
            ]
          },
          "metadata": {
            "tags": []
          },
          "execution_count": 49
        }
      ]
    },
    {
      "cell_type": "markdown",
      "metadata": {
        "id": "qZ6F4CDfzjCv"
      },
      "source": [
        "Axis 1 can be referred to as 'columns'"
      ]
    },
    {
      "cell_type": "code",
      "metadata": {
        "id": "DePn-tCYzyZ5",
        "outputId": "829d1b4d-1a5f-426b-f2a4-1c8f3d89989f",
        "colab": {
          "base_uri": "https://localhost:8080/",
          "height": 419
        }
      },
      "source": [
        "# Alternate way of deleting columns\n",
        "shopping_df.drop(labels='Order Date', axis='columns')"
      ],
      "execution_count": 50,
      "outputs": [
        {
          "output_type": "execute_result",
          "data": {
            "text/html": [
              "<div>\n",
              "<style scoped>\n",
              "    .dataframe tbody tr th:only-of-type {\n",
              "        vertical-align: middle;\n",
              "    }\n",
              "\n",
              "    .dataframe tbody tr th {\n",
              "        vertical-align: top;\n",
              "    }\n",
              "\n",
              "    .dataframe thead th {\n",
              "        text-align: right;\n",
              "    }\n",
              "</style>\n",
              "<table border=\"1\" class=\"dataframe\">\n",
              "  <thead>\n",
              "    <tr style=\"text-align: right;\">\n",
              "      <th></th>\n",
              "      <th>Order ID</th>\n",
              "      <th>Product Name</th>\n",
              "      <th>Quantity Ordered</th>\n",
              "      <th>Price</th>\n",
              "      <th>Purchase Address</th>\n",
              "      <th>Store</th>\n",
              "    </tr>\n",
              "  </thead>\n",
              "  <tbody>\n",
              "    <tr>\n",
              "      <th>0</th>\n",
              "      <td>176558</td>\n",
              "      <td>USB-C Charging Cable</td>\n",
              "      <td>2</td>\n",
              "      <td>11.95</td>\n",
              "      <td>917 1st St, Dallas, TX 75001</td>\n",
              "      <td>Amazon</td>\n",
              "    </tr>\n",
              "    <tr>\n",
              "      <th>1</th>\n",
              "      <td>176559</td>\n",
              "      <td>Bose SoundSport Headphones</td>\n",
              "      <td>1</td>\n",
              "      <td>99.99</td>\n",
              "      <td>682 Chestnut St, Boston, MA 02215</td>\n",
              "      <td>NaN</td>\n",
              "    </tr>\n",
              "    <tr>\n",
              "      <th>2</th>\n",
              "      <td>176560</td>\n",
              "      <td>Google Phone</td>\n",
              "      <td>1</td>\n",
              "      <td>600.00</td>\n",
              "      <td>669 Spruce St, Los Angeles, CA 90001</td>\n",
              "      <td>NaN</td>\n",
              "    </tr>\n",
              "    <tr>\n",
              "      <th>3</th>\n",
              "      <td>176560</td>\n",
              "      <td>Wired Headphones</td>\n",
              "      <td>1</td>\n",
              "      <td>11.99</td>\n",
              "      <td>669 Spruce St, Los Angeles, CA 90001</td>\n",
              "      <td>NaN</td>\n",
              "    </tr>\n",
              "    <tr>\n",
              "      <th>4</th>\n",
              "      <td>176561</td>\n",
              "      <td>Wired Headphones</td>\n",
              "      <td>1</td>\n",
              "      <td>11.99</td>\n",
              "      <td>333 8th St, Los Angeles, CA 90001</td>\n",
              "      <td>NaN</td>\n",
              "    </tr>\n",
              "    <tr>\n",
              "      <th>...</th>\n",
              "      <td>...</td>\n",
              "      <td>...</td>\n",
              "      <td>...</td>\n",
              "      <td>...</td>\n",
              "      <td>...</td>\n",
              "      <td>...</td>\n",
              "    </tr>\n",
              "    <tr>\n",
              "      <th>185945</th>\n",
              "      <td>176554</td>\n",
              "      <td>Lightning Charging Cable</td>\n",
              "      <td>1</td>\n",
              "      <td>14.95</td>\n",
              "      <td>672 12th St, San Francisco, CA 94016</td>\n",
              "      <td>NaN</td>\n",
              "    </tr>\n",
              "    <tr>\n",
              "      <th>185946</th>\n",
              "      <td>176555</td>\n",
              "      <td>27in FHD Monitor</td>\n",
              "      <td>1</td>\n",
              "      <td>149.99</td>\n",
              "      <td>42 4th St, San Francisco, CA 94016</td>\n",
              "      <td>NaN</td>\n",
              "    </tr>\n",
              "    <tr>\n",
              "      <th>185947</th>\n",
              "      <td>176556</td>\n",
              "      <td>AAA Batteries (4-pack)</td>\n",
              "      <td>3</td>\n",
              "      <td>2.99</td>\n",
              "      <td>871 7th St, Los Angeles, CA 90001</td>\n",
              "      <td>NaN</td>\n",
              "    </tr>\n",
              "    <tr>\n",
              "      <th>185948</th>\n",
              "      <td>176557</td>\n",
              "      <td>iPhone</td>\n",
              "      <td>1</td>\n",
              "      <td>700.00</td>\n",
              "      <td>83 Washington St, San Francisco, CA 94016</td>\n",
              "      <td>NaN</td>\n",
              "    </tr>\n",
              "    <tr>\n",
              "      <th>185949</th>\n",
              "      <td>176557</td>\n",
              "      <td>Lightning Charging Cable</td>\n",
              "      <td>1</td>\n",
              "      <td>14.95</td>\n",
              "      <td>83 Washington St, San Francisco, CA 94016</td>\n",
              "      <td>NaN</td>\n",
              "    </tr>\n",
              "  </tbody>\n",
              "</table>\n",
              "<p>185950 rows × 6 columns</p>\n",
              "</div>"
            ],
            "text/plain": [
              "        Order ID  ...   Store\n",
              "0         176558  ...  Amazon\n",
              "1         176559  ...     NaN\n",
              "2         176560  ...     NaN\n",
              "3         176560  ...     NaN\n",
              "4         176561  ...     NaN\n",
              "...          ...  ...     ...\n",
              "185945    176554  ...     NaN\n",
              "185946    176555  ...     NaN\n",
              "185947    176556  ...     NaN\n",
              "185948    176557  ...     NaN\n",
              "185949    176557  ...     NaN\n",
              "\n",
              "[185950 rows x 6 columns]"
            ]
          },
          "metadata": {
            "tags": []
          },
          "execution_count": 50
        }
      ]
    },
    {
      "cell_type": "markdown",
      "metadata": {
        "id": "F7AXitOrxcoj"
      },
      "source": [
        "# Try It Yourself\n",
        "\n",
        "\n",
        "\n"
      ]
    },
    {
      "cell_type": "markdown",
      "metadata": {
        "id": "Itj-2htKdtGC"
      },
      "source": [
        "For the following questions, use the **Stack Overflow** dataset.\n",
        "\n",
        "**Note:** `NaN` values in the dataset just mean that the user did not respond to that in the survey.\n",
        "\n",
        "0.   Load the dataset into a dataframe using `read_csv`.\n",
        "1.   Rename the `ConvertedComp` label to `Salary` and the `MainBranch` label to `Stream`.\n",
        "2.   Update the third row to have the same values for `Age` and `CompFreq` as the ninth row.\n",
        "3.   Replace  the country `Russian Federation` with `Russia` throughout the dataset.\n",
        "4.   Update the country of the first respondent to USA.\n",
        "5.   Convert the gender to uppercase for every row."
      ]
    },
    {
      "cell_type": "markdown",
      "metadata": {
        "id": "Rt5o6kGmdwEe"
      },
      "source": [
        "Incase you want to access the schema of the dataset:"
      ]
    },
    {
      "cell_type": "code",
      "metadata": {
        "id": "15d9V3V6eIbK",
        "outputId": "9ae0d287-896d-4b8a-e8bc-e3e58fec0e87",
        "colab": {
          "base_uri": "https://localhost:8080/"
        }
      },
      "source": [
        "# Stackoverflow Schema Survey Dataset\n",
        "!wget https://nkb-backend-otg-media-static.s3.ap-south-1.amazonaws.com/otg_prod/media/Tech_4.0/AI_ML/Datasets/survey_results_schema.csv\n",
        "\n",
        "schema_survey_df = pd.read_csv('survey_results_schema.csv')"
      ],
      "execution_count": 51,
      "outputs": [
        {
          "output_type": "stream",
          "text": [
            "--2020-12-23 05:11:56--  https://nkb-backend-otg-media-static.s3.ap-south-1.amazonaws.com/otg_prod/media/Tech_4.0/AI_ML/Datasets/survey_results_schema.csv\n",
            "Resolving nkb-backend-otg-media-static.s3.ap-south-1.amazonaws.com (nkb-backend-otg-media-static.s3.ap-south-1.amazonaws.com)... 52.219.62.79\n",
            "Connecting to nkb-backend-otg-media-static.s3.ap-south-1.amazonaws.com (nkb-backend-otg-media-static.s3.ap-south-1.amazonaws.com)|52.219.62.79|:443... connected.\n",
            "HTTP request sent, awaiting response... 200 OK\n",
            "Length: 8428 (8.2K) [text/csv]\n",
            "Saving to: ‘survey_results_schema.csv’\n",
            "\n",
            "survey_results_sche 100%[===================>]   8.23K  --.-KB/s    in 0s      \n",
            "\n",
            "2020-12-23 05:11:57 (120 MB/s) - ‘survey_results_schema.csv’ saved [8428/8428]\n",
            "\n"
          ],
          "name": "stdout"
        }
      ]
    },
    {
      "cell_type": "code",
      "metadata": {
        "id": "rON0D6Q1AvJh",
        "outputId": "c639e4bc-b152-454c-b520-b81dc50e667f",
        "colab": {
          "base_uri": "https://localhost:8080/",
          "height": 419
        }
      },
      "source": [
        "schema_survey_df"
      ],
      "execution_count": 53,
      "outputs": [
        {
          "output_type": "execute_result",
          "data": {
            "text/html": [
              "<div>\n",
              "<style scoped>\n",
              "    .dataframe tbody tr th:only-of-type {\n",
              "        vertical-align: middle;\n",
              "    }\n",
              "\n",
              "    .dataframe tbody tr th {\n",
              "        vertical-align: top;\n",
              "    }\n",
              "\n",
              "    .dataframe thead th {\n",
              "        text-align: right;\n",
              "    }\n",
              "</style>\n",
              "<table border=\"1\" class=\"dataframe\">\n",
              "  <thead>\n",
              "    <tr style=\"text-align: right;\">\n",
              "      <th></th>\n",
              "      <th>Column</th>\n",
              "      <th>QuestionText</th>\n",
              "    </tr>\n",
              "  </thead>\n",
              "  <tbody>\n",
              "    <tr>\n",
              "      <th>0</th>\n",
              "      <td>Respondent</td>\n",
              "      <td>Randomized respondent ID number (not in order ...</td>\n",
              "    </tr>\n",
              "    <tr>\n",
              "      <th>1</th>\n",
              "      <td>MainBranch</td>\n",
              "      <td>Which of the following options best describes ...</td>\n",
              "    </tr>\n",
              "    <tr>\n",
              "      <th>2</th>\n",
              "      <td>Hobbyist</td>\n",
              "      <td>Do you code as a hobby?</td>\n",
              "    </tr>\n",
              "    <tr>\n",
              "      <th>3</th>\n",
              "      <td>Age</td>\n",
              "      <td>What is your age (in years)? If you prefer not...</td>\n",
              "    </tr>\n",
              "    <tr>\n",
              "      <th>4</th>\n",
              "      <td>Age1stCode</td>\n",
              "      <td>At what age did you write your first line of c...</td>\n",
              "    </tr>\n",
              "    <tr>\n",
              "      <th>...</th>\n",
              "      <td>...</td>\n",
              "      <td>...</td>\n",
              "    </tr>\n",
              "    <tr>\n",
              "      <th>56</th>\n",
              "      <td>WebframeWorkedWith</td>\n",
              "      <td>Which web frameworks have you done extensive d...</td>\n",
              "    </tr>\n",
              "    <tr>\n",
              "      <th>57</th>\n",
              "      <td>WelcomeChange</td>\n",
              "      <td>Compared to last year, how welcome do you feel...</td>\n",
              "    </tr>\n",
              "    <tr>\n",
              "      <th>58</th>\n",
              "      <td>WorkWeekHrs</td>\n",
              "      <td>On average, how many hours per week do you wor...</td>\n",
              "    </tr>\n",
              "    <tr>\n",
              "      <th>59</th>\n",
              "      <td>YearsCode</td>\n",
              "      <td>Including any education, how many years have y...</td>\n",
              "    </tr>\n",
              "    <tr>\n",
              "      <th>60</th>\n",
              "      <td>YearsCodePro</td>\n",
              "      <td>NOT including education, how many years have y...</td>\n",
              "    </tr>\n",
              "  </tbody>\n",
              "</table>\n",
              "<p>61 rows × 2 columns</p>\n",
              "</div>"
            ],
            "text/plain": [
              "                Column                                       QuestionText\n",
              "0           Respondent  Randomized respondent ID number (not in order ...\n",
              "1           MainBranch  Which of the following options best describes ...\n",
              "2             Hobbyist                            Do you code as a hobby?\n",
              "3                  Age  What is your age (in years)? If you prefer not...\n",
              "4           Age1stCode  At what age did you write your first line of c...\n",
              "..                 ...                                                ...\n",
              "56  WebframeWorkedWith  Which web frameworks have you done extensive d...\n",
              "57       WelcomeChange  Compared to last year, how welcome do you feel...\n",
              "58         WorkWeekHrs  On average, how many hours per week do you wor...\n",
              "59           YearsCode  Including any education, how many years have y...\n",
              "60        YearsCodePro  NOT including education, how many years have y...\n",
              "\n",
              "[61 rows x 2 columns]"
            ]
          },
          "metadata": {
            "tags": []
          },
          "execution_count": 53
        }
      ]
    },
    {
      "cell_type": "code",
      "metadata": {
        "id": "442wtn1pAw0j"
      },
      "source": [
        "schema_survey_df['Column'].replace({'ConvertedComp':'Salary', 'MainBranch':'Stream'}, inplace=True)"
      ],
      "execution_count": 56,
      "outputs": []
    },
    {
      "cell_type": "code",
      "metadata": {
        "id": "54qrDLcRB9XP",
        "outputId": "8ca69c96-a260-4c33-a50a-8182bacc9fee",
        "colab": {
          "base_uri": "https://localhost:8080/",
          "height": 111
        }
      },
      "source": [
        "schema_survey_df.loc[[3, 9]]"
      ],
      "execution_count": 59,
      "outputs": [
        {
          "output_type": "execute_result",
          "data": {
            "text/html": [
              "<div>\n",
              "<style scoped>\n",
              "    .dataframe tbody tr th:only-of-type {\n",
              "        vertical-align: middle;\n",
              "    }\n",
              "\n",
              "    .dataframe tbody tr th {\n",
              "        vertical-align: top;\n",
              "    }\n",
              "\n",
              "    .dataframe thead th {\n",
              "        text-align: right;\n",
              "    }\n",
              "</style>\n",
              "<table border=\"1\" class=\"dataframe\">\n",
              "  <thead>\n",
              "    <tr style=\"text-align: right;\">\n",
              "      <th></th>\n",
              "      <th>Column</th>\n",
              "      <th>QuestionText</th>\n",
              "    </tr>\n",
              "  </thead>\n",
              "  <tbody>\n",
              "    <tr>\n",
              "      <th>3</th>\n",
              "      <td>Age</td>\n",
              "      <td>What is your age (in years)? If you prefer not...</td>\n",
              "    </tr>\n",
              "    <tr>\n",
              "      <th>9</th>\n",
              "      <td>CurrencyDesc</td>\n",
              "      <td>Which currency do you use day-to-day? If your ...</td>\n",
              "    </tr>\n",
              "  </tbody>\n",
              "</table>\n",
              "</div>"
            ],
            "text/plain": [
              "         Column                                       QuestionText\n",
              "3           Age  What is your age (in years)? If you prefer not...\n",
              "9  CurrencyDesc  Which currency do you use day-to-day? If your ..."
            ]
          },
          "metadata": {
            "tags": []
          },
          "execution_count": 59
        }
      ]
    },
    {
      "cell_type": "code",
      "metadata": {
        "id": "w7hx1Bc1CAeJ"
      },
      "source": [
        "schema_survey_df.replace(to_replace=['Russian_Federation'], value='Russia', inplace=True)"
      ],
      "execution_count": 63,
      "outputs": []
    },
    {
      "cell_type": "code",
      "metadata": {
        "id": "QEzQM2gYDoVJ"
      },
      "source": [
        ""
      ],
      "execution_count": null,
      "outputs": []
    }
  ]
}